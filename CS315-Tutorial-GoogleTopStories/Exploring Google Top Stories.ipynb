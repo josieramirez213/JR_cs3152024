{
 "cells": [
  {
   "cell_type": "markdown",
   "id": "1dbe4353-ae93-4f8c-b244-5f5488134979",
   "metadata": {},
   "source": [
    "# Google Top Stories - An exploration\n",
    "\n",
    "**Description:** This dataset was collected during the pandemic, it contains headlines shown by Google Search.\n",
    "It is organized by year, month, date, hour, in a series of nested folders. The leaf folders contain JSON files with information about Google's top stories. \n",
    "\n",
    "Your goal is to write first a Python function that takes the name of the folder \"GoogleTopStories\" and stores the content of all the JSON files into a single CSV file. Once you have a CSV file, you can practice your pandas & seaborn skills in analyzing the data.\n",
    "\n",
    "Some tips and ideas for analysis:\n",
    "1. Use the Python command `os.walk` to iteratively traverse the nested subfolders. Account for hidden files that start with .\n",
    "2. Although the dataset has a column domain, imagine that it doesn't have it and write a function that takes a URL and extracts the domain name from it and saves it in a column. Use the `.apply` method to create the column. Learn how to parse URLs with `urllib.parse`.\n",
    "3. Create a bar chart with the frequencies of the top 10 domains. (Use domains, since 'source name' contains duplicates.)\n",
    "4. Create a heatmap that shows the distribution of domains across the 'story_position' values.\n",
    "5. Create timeseries of unique articles per month by query type. (This is challenging, because it is not using pandas' timeseries.)\n",
    "\n",
    "\n",
    "**Table of Content [Solutions]**\n",
    "1. [Reading all JSON files](#sec1)\n",
    "2. [Creating a new column](#sec2)\n",
    "3. [Bar chart of top domains](#sec3)\n",
    "4. [Heatmap for the story positions](#sec4)\n",
    "5. [Timeseries of unique articles by query](#sec5)"
   ]
  },
  {
   "cell_type": "markdown",
   "id": "366b059e-6191-40d4-9dad-6e75a306c4e0",
   "metadata": {},
   "source": [
    "<a id=\"sec1\"></a>\n",
    "## Part 1: Reading all JSON files\n",
    "\n",
    "Spend some time looking at the structure of the folders and subfolders in GoogleTopStories. You should notice the deep nesting. The function `os.walk` recursively traverses this nested structure. "
   ]
  },
  {
   "cell_type": "code",
   "execution_count": 3,
   "id": "2cd93b62-65e6-41e1-b7d2-fa9bfbf517bf",
   "metadata": {},
   "outputs": [],
   "source": [
    "import os, json, csv\n",
    "\n",
    "def writeFilesToCSV(pathName):\n",
    "    \"\"\"\n",
    "    Takes a foldername as an argument. Recursively reads all JSON files \n",
    "    and saves their content into a list. At the end, saves all data into a CSV file.\n",
    "    \"\"\"\n",
    "    allTopStories = []\n",
    "    totalFiles = 0\n",
    "    for dirpath, dirnames, filenames in os.walk(pathName):\n",
    "        for fN in filenames: \n",
    "            if fN.endswith('.json'): # Avoid any other types of files, such as .DS_Store\n",
    "                totalFiles += 1\n",
    "                filePath = os.path.join(dirpath, fN) # create the whole path of a file\n",
    "                with open(filePath) as inputF:\n",
    "                    data = json.load(inputF)\n",
    "                    allTopStories.extend(data)\n",
    "                \n",
    "    print(\"Total number of JSON files:\", totalFiles)\n",
    "    print(\"Total number of Top stories in the files:\", len(allTopStories))\n",
    "\n",
    "    with open(\"our-results.csv\", \"w\") as fout:\n",
    "        header = list(allTopStories[0].keys()) + ['category'] # Notice this, because not all top stories have a \"category\"\n",
    "        dW = csv.DictWriter(fout, fieldnames=header)\n",
    "        dW.writeheader()\n",
    "        dW.writerows(allTopStories)"
   ]
  },
  {
   "cell_type": "code",
   "execution_count": 4,
   "id": "619fa6ab-c350-4a08-acc6-97d1b46c617d",
   "metadata": {},
   "outputs": [
    {
     "name": "stdout",
     "output_type": "stream",
     "text": [
      "Total number of JSON files: 2443\n",
      "Total number of Top stories in the files: 16948\n"
     ]
    },
    {
     "ename": "UnicodeEncodeError",
     "evalue": "'charmap' codec can't encode characters in position 27-33: character maps to <undefined>",
     "output_type": "error",
     "traceback": [
      "\u001b[1;31m---------------------------------------------------------------------------\u001b[0m",
      "\u001b[1;31mUnicodeEncodeError\u001b[0m                        Traceback (most recent call last)",
      "Cell \u001b[1;32mIn[4], line 2\u001b[0m\n\u001b[0;32m      1\u001b[0m \u001b[38;5;66;03m# Call the function for our folder\u001b[39;00m\n\u001b[1;32m----> 2\u001b[0m writeFilesToCSV(\u001b[38;5;124m'\u001b[39m\u001b[38;5;124mGoogleTopStories\u001b[39m\u001b[38;5;124m'\u001b[39m)\n",
      "Cell \u001b[1;32mIn[3], line 26\u001b[0m, in \u001b[0;36mwriteFilesToCSV\u001b[1;34m(pathName)\u001b[0m\n\u001b[0;32m     24\u001b[0m dW \u001b[38;5;241m=\u001b[39m csv\u001b[38;5;241m.\u001b[39mDictWriter(fout, fieldnames\u001b[38;5;241m=\u001b[39mheader)\n\u001b[0;32m     25\u001b[0m dW\u001b[38;5;241m.\u001b[39mwriteheader()\n\u001b[1;32m---> 26\u001b[0m dW\u001b[38;5;241m.\u001b[39mwriterows(allTopStories)\n",
      "File \u001b[1;32m~\\miniconda3\\Lib\\csv.py:157\u001b[0m, in \u001b[0;36mDictWriter.writerows\u001b[1;34m(self, rowdicts)\u001b[0m\n\u001b[0;32m    156\u001b[0m \u001b[38;5;28;01mdef\u001b[39;00m \u001b[38;5;21mwriterows\u001b[39m(\u001b[38;5;28mself\u001b[39m, rowdicts):\n\u001b[1;32m--> 157\u001b[0m     \u001b[38;5;28;01mreturn\u001b[39;00m \u001b[38;5;28mself\u001b[39m\u001b[38;5;241m.\u001b[39mwriter\u001b[38;5;241m.\u001b[39mwriterows(\u001b[38;5;28mmap\u001b[39m(\u001b[38;5;28mself\u001b[39m\u001b[38;5;241m.\u001b[39m_dict_to_list, rowdicts))\n",
      "File \u001b[1;32m~\\miniconda3\\Lib\\encodings\\cp1252.py:19\u001b[0m, in \u001b[0;36mIncrementalEncoder.encode\u001b[1;34m(self, input, final)\u001b[0m\n\u001b[0;32m     18\u001b[0m \u001b[38;5;28;01mdef\u001b[39;00m \u001b[38;5;21mencode\u001b[39m(\u001b[38;5;28mself\u001b[39m, \u001b[38;5;28minput\u001b[39m, final\u001b[38;5;241m=\u001b[39m\u001b[38;5;28;01mFalse\u001b[39;00m):\n\u001b[1;32m---> 19\u001b[0m     \u001b[38;5;28;01mreturn\u001b[39;00m codecs\u001b[38;5;241m.\u001b[39mcharmap_encode(\u001b[38;5;28minput\u001b[39m,\u001b[38;5;28mself\u001b[39m\u001b[38;5;241m.\u001b[39merrors,encoding_table)[\u001b[38;5;241m0\u001b[39m]\n",
      "\u001b[1;31mUnicodeEncodeError\u001b[0m: 'charmap' codec can't encode characters in position 27-33: character maps to <undefined>"
     ]
    }
   ],
   "source": [
    "# Call the function for our folder\n",
    "writeFilesToCSV('GoogleTopStories')"
   ]
  },
  {
   "cell_type": "markdown",
   "id": "1d0c6ad8-a092-4a40-80b1-bb2f35761927",
   "metadata": {},
   "source": [
    "**Your task: Explore how `os.walk` works**\n",
    "\n",
    "In order to see how os.walks works, use below the for loop from the function to only explore the month of Aprill 2020, by printing out what the for loop generates."
   ]
  },
  {
   "cell_type": "code",
   "execution_count": 7,
   "id": "c26c6bed-a359-4b5f-ad51-275179db5230",
   "metadata": {},
   "outputs": [
    {
     "name": "stdout",
     "output_type": "stream",
     "text": [
      "[{'title': 'Six new coronavirus symptoms just officially added to CDC list. What are \\nthey?', 'url': 'https://www.miamiherald.com/news/coronavirus/article242260231.html', 'source': 'Miami Herald', 'time': '1 day ago', 'date': '2020-04-25 22:00:00', 'query': 'coronavirus symptoms', 'story_position': 1, 'domain': 'www.miamiherald.com'}, {'title': 'Coronavirus FAQs: Are There Lots Of Cases With No Symptoms? Can I See A \\nDentist? : Goats and Soda', 'url': 'https://www.npr.org/sections/goatsandsoda/2020/04/24/844325330/coronavirus-faqs-does-a-bigger-dose-make-you-sicker-can-you-go-to-the-dentist', 'source': 'NPR', 'time': '1 day ago', 'date': '2020-04-25 22:00:00', 'query': 'coronavirus symptoms', 'story_position': 2, 'domain': 'www.npr.org'}, {'title': 'CDC adds 6 new possible coronavirus symptoms', 'url': 'https://www.ktvq.com/news/coronavirus/cdc-adds-6-new-possible-coronavirus-symptoms', 'source': 'KTVQ.com', 'time': '2 hours ago', 'date': '2020-04-25 22:00:00', 'query': 'coronavirus symptoms', 'story_position': 3, 'domain': 'www.ktvq.com'}]\n",
      "[{'title': 'WHO says no evidence shows that having coronavirus prevents a second \\ninfection', 'url': 'https://www.cnn.com/2020/04/25/us/who-immunity-antibodies-covid-19/index.html', 'source': 'CNN.com', 'time': '6 hours ago', 'date': '2020-04-25 22:00:00', 'query': 'coronavirus test', 'story_position': 1, 'domain': 'www.cnn.com'}, {'title': \"'No Evidence' Yet That Recovered COVID-19 Patients Are Immune, WHO Says\", 'url': 'https://www.npr.org/sections/coronavirus-live-updates/2020/04/25/844939777/no-evidence-that-recovered-covid-19-patients-are-immune-who-says', 'source': 'NPR', 'time': '11 hours ago', 'date': '2020-04-25 22:00:00', 'query': 'coronavirus test', 'story_position': 2, 'domain': 'www.npr.org'}, {'title': 'Detroit Health Care Worker Dies After Being Denied Coronavirus Test 4 \\nTimes, Daughter Says', 'url': 'https://www.nbcphiladelphia.com/news/national-international/detroit-health-care-worker-dies-after-being-denied-coronavirus-test-4-times-daughter-says/2375969/', 'source': 'NBC10 Philadelphia', 'time': '47 mins ago', 'date': '2020-04-25 22:00:00', 'query': 'coronavirus test', 'story_position': 3, 'domain': 'www.nbcphiladelphia.com'}]\n",
      "[{'title': 'Six new coronavirus symptoms just officially added to CDC list. What are \\nthey?', 'url': 'https://www.miamiherald.com/news/coronavirus/article242260231.html', 'source': 'Miami Herald', 'time': '1 day ago', 'date': '2020-04-25 22:00:00', 'query': 'coronavirus', 'story_position': 1, 'domain': 'www.miamiherald.com'}, {'title': 'Worldwide coronavirus death toll passes 200,000: Live updates', 'url': 'https://www.cnn.com/world/live-news/coronavirus-pandemic-04-26-20-intl/index.html', 'source': 'CNN.com', 'time': '5 mins ago', 'date': '2020-04-25 22:00:00', 'query': 'coronavirus', 'story_position': 2, 'domain': 'www.cnn.com'}, {'title': 'Ritzy Fisher Island residents vote not to accept $2M coronavirus loan', 'url': 'https://nypost.com/2020/04/25/ritzy-fisher-island-residents-vote-not-to-accept-2m-coronavirus-loan/', 'source': 'New York Post', 'time': '33 mins ago', 'date': '2020-04-25 22:00:00', 'query': 'coronavirus', 'story_position': 3, 'domain': 'nypost.com'}, {'title': 'Detroit Health Care Worker Dies After Being Denied Coronavirus Test 4 \\nTimes, Daughter Says', 'url': 'https://www.nbcphiladelphia.com/news/national-international/detroit-health-care-worker-dies-after-being-denied-coronavirus-test-4-times-daughter-says/2375969/', 'source': 'NBC10 Philadelphia', 'time': '45 mins ago', 'date': '2020-04-25 22:00:00', 'query': 'coronavirus', 'story_position': 4, 'domain': 'www.nbcphiladelphia.com'}, {'title': 'Coronavirus detected on air pollution particles: report | TheHill', 'url': 'https://thehill.com/blogs/blog-briefing-room/news/494677-coronavirus-detected-on-air-pollution-particles-report', 'source': 'TheHill', 'time': '2 hours ago', 'date': '2020-04-25 22:00:00', 'query': 'coronavirus', 'story_position': 5, 'domain': 'thehill.com'}, {'title': 'Coronavirus live updates: Autopsy finds Santa Clara victim, 1st in US, had \\nheart rupture', 'url': 'https://www.sfchronicle.com/bayarea/article/Coronavirus-live-updates-news-bay-area-15192855.php', 'source': 'San Francisco Chronicle', 'time': '2 hours ago', 'date': '2020-04-25 22:00:00', 'query': 'coronavirus', 'story_position': 6, 'domain': 'www.sfchronicle.com'}, {'title': 'New coronavirus legislation could include another round of stimulus checks, \\nU.S. Rep. Richard Neal says', 'url': 'https://www.masslive.com/news/2020/04/new-coronavirus-legislation-could-include-another-round-of-stimulus-checks-us-rep-richard-neal-says.html', 'source': 'MassLive.com', 'time': '4 hours ago', 'date': '2020-04-25 22:00:00', 'query': 'coronavirus', 'story_position': 7, 'domain': 'www.masslive.com'}, {'title': 'Cuomo: Central New York’s ‘OK’ coronavirus numbers may not be enough for \\nearly reopening', 'url': 'https://www.syracuse.com/coronavirus/2020/04/cuomo-central-new-yorks-ok-coronavirus-numbers-may-not-be-enough-for-early-reopening.html', 'source': 'Syracuse.com', 'time': '5 hours ago', 'date': '2020-04-25 22:00:00', 'query': 'coronavirus', 'story_position': 8, 'domain': 'www.syracuse.com'}, {'title': \"Fauci's absence from recent coronavirus briefings draws notice\", 'url': 'https://www.nbcnews.com/politics/white-house/fauci-s-absence-recent-coronavirus-briefings-draws-notice-n1192421', 'source': 'NBC News', 'time': '6 hours ago', 'date': '2020-04-25 22:00:00', 'query': 'coronavirus', 'story_position': 9, 'domain': 'www.nbcnews.com'}, {'title': 'Icahn Sees Further Market Crash From Coronavirus, Says He’s Shorting \\nCommercial Real Estate', 'url': 'https://www.forbes.com/sites/sergeiklebnikov/2020/04/25/icahn-sees-further-market-crash-from-coronavirus-says-hes-shorting-commercial-real-estate/', 'source': 'Forbes', 'time': '7 hours ago', 'date': '2020-04-25 22:00:00', 'query': 'coronavirus', 'story_position': 10, 'domain': 'www.forbes.com'}]\n",
      "[{'title': 'Coronavirus daily news updates, April 25: What to know today about COVID-19 \\nin the Seattle area, Washington state and the nation', 'url': 'https://www.seattletimes.com/seattle-news/health/coronavirus-daily-news-updates-april-25-what-to-know-today-about-covid-19-in-the-seattle-area-washington-state-and-the-nation/', 'source': 'The Seattle Times', 'time': '10 hours ago', 'date': '2020-04-25 22:00:00', 'query': 'Covid-19', 'story_position': 1, 'domain': 'www.seattletimes.com'}, {'title': 'The one ritual keeping me sane during Covid-19', 'url': 'https://www.cnn.com/2020/04/25/opinions/covid-19-ritual-grieving-ice-cream-gelles/index.html', 'source': 'CNN.com', 'time': '13 hours ago', 'date': '2020-04-25 22:00:00', 'query': 'Covid-19', 'story_position': 2, 'domain': 'www.cnn.com'}, {'title': 'Dyson Built a New Ventilator to Treat Covid-19 Patients, but Was Told the \\nUK No Longer Needs It', 'url': 'https://gizmodo.com/dyson-built-a-new-ventilator-to-treat-covid-19-patients-1843075158', 'source': 'Gizmodo', 'time': '44 mins ago', 'date': '2020-04-25 22:00:00', 'query': 'Covid-19', 'story_position': 3, 'domain': 'gizmodo.com'}, {'title': 'Covid-19 research should include studies on how the virus affects women', 'url': 'https://www.cnn.com/2020/04/25/opinions/coronavirus-research-women-blumenthal/index.html', 'source': 'CNN.com', 'time': '1 hour ago', 'date': '2020-04-25 22:00:00', 'query': 'Covid-19', 'story_position': 4, 'domain': 'www.cnn.com'}, {'title': 'ProMedica doctor returning to work after his own battle with COVID-19', 'url': 'https://www.wtol.com/article/news/health/coronavirus/promedica-doctor-returning-to-work-after-his-own-battle-with-covid-19/512-a2708c7f-d34b-4922-bf0b-0f0dfce673f4', 'source': 'wtol.com', 'time': '1 hour ago', 'date': '2020-04-25 22:00:00', 'query': 'Covid-19', 'story_position': 5, 'domain': 'www.wtol.com'}, {'title': 'Trump’s COVID-19 failure shows his ‘omnipotent destructiveness’ — as he is \\n‘actively engaging in sabotage’: Psychologist John Gartner', 'url': 'https://www.rawstory.com/2020/04/trumps-covid-19-failure-shows-his-omnipotent-destructiveness-as-he-is-actively-engaging-in-sabotage-psychologist-john-gartner/', 'source': 'Raw Story', 'time': '3 hours ago', 'date': '2020-04-25 22:00:00', 'query': 'Covid-19', 'story_position': 6, 'domain': 'www.rawstory.com'}, {'title': 'Coronavirus in Massachusetts: 2,730 deaths, 53,348 COVID-19 cases total', 'url': 'https://www.wwlp.com/news/health/coronavirus-local-impact/coronavirus-in-massachusetts-2730-deaths-53348-covid-19-cases-total/', 'source': 'WWLP', 'time': '5 hours ago', 'date': '2020-04-25 22:00:00', 'query': 'Covid-19', 'story_position': 7, 'domain': 'www.wwlp.com'}, {'title': 'Coronavirus updates: 166 new COVID-19 cases, 2 deaths reported in Utah on \\nSaturday', 'url': 'https://www.ksl.com/article/46745277/coronavirus-updates-166-new-covid-19-cases-2-deaths-reported-in-utah-on-saturday', 'source': 'KSL.com', 'time': '6 hours ago', 'date': '2020-04-25 22:00:00', 'query': 'Covid-19', 'story_position': 8, 'domain': 'www.ksl.com'}, {'title': 'Maine reports 3 more COVID-19 deaths as the state sees 25 more cases', 'url': 'https://bangordailynews.com/2020/04/25/news/state/maine-reports-3-more-covid-19-deaths-as-cases-rise-to-990/', 'source': 'Bangor Daily News', 'time': '9 hours ago', 'date': '2020-04-25 22:00:00', 'query': 'Covid-19', 'story_position': 9, 'domain': 'bangordailynews.com'}, {'title': \"UPDATE: Governor's office says 'Phase One' of reopening Virginia 'will not \\nlast for two years'; Chesterfield church says it didn't hold large gathering\", 'url': 'https://www.richmond.com/news/virginia/update-governors-office-says-phase-one-of-reopening-virginia-will-not-last-for-two-years/article_434516e1-9f6e-51f5-b30d-d328870cc8bc.html', 'source': 'Richmond Times-Dispatch', 'time': '10 hours ago', 'date': '2020-04-25 22:00:00', 'query': 'Covid-19', 'story_position': 10, 'domain': 'www.richmond.com'}]\n",
      "[{'title': 'Six new coronavirus symptoms just officially added to CDC list. What are \\nthey?', 'url': 'https://www.miamiherald.com/news/coronavirus/article242260231.html', 'source': 'Miami Herald', 'time': '1 day ago', 'date': '2020-04-25 22:00:00', 'query': 'coronavirus symptoms', 'story_position': 1, 'domain': 'www.miamiherald.com'}, {'title': 'Coronavirus FAQs: Are There Lots Of Cases With No Symptoms? Can I See A \\nDentist? : Goats and Soda', 'url': 'https://www.npr.org/sections/goatsandsoda/2020/04/24/844325330/coronavirus-faqs-does-a-bigger-dose-make-you-sicker-can-you-go-to-the-dentist', 'source': 'NPR', 'time': '1 day ago', 'date': '2020-04-25 22:00:00', 'query': 'coronavirus symptoms', 'story_position': 2, 'domain': 'www.npr.org'}, {'title': 'CDC adds 6 new possible coronavirus symptoms', 'url': 'https://www.ktvq.com/news/coronavirus/cdc-adds-6-new-possible-coronavirus-symptoms', 'source': 'KTVQ.com', 'time': '2 hours ago', 'date': '2020-04-25 22:00:00', 'query': 'coronavirus symptoms', 'story_position': 3, 'domain': 'www.ktvq.com'}]\n",
      "[{'title': 'Coronavirus updates: CDC adds 6 new possible symptoms of COVID-19', 'url': 'https://abcnews.go.com/US/coronavirus-live-updates-cdc-adds-symptoms-covid-19/story?id=70351472', 'source': 'ABC News', 'time': '50 mins ago', 'date': '2020-04-26 10:00:00', 'query': 'coronavirus symptoms', 'story_position': 1, 'domain': 'abcnews.go.com'}, {'title': 'CDC adds six new possible coronavirus symptoms', 'url': 'https://www.cbsnews.com/news/cdc-adds-six-new-possible-coronavirus-symptoms-2020-04-25/', 'source': 'CBS News', 'time': '17 hours ago', 'date': '2020-04-26 10:00:00', 'query': 'coronavirus symptoms', 'story_position': 2, 'domain': 'www.cbsnews.com'}, {'title': 'Coronavirus updates: Global cases near 3 million as CDC flags new symptoms', 'url': 'https://www.cbsnews.com/live-updates/coronavirus-update-covid-19-2020-04-26/', 'source': 'CBS News', 'time': '10 mins ago', 'date': '2020-04-26 10:00:00', 'query': 'coronavirus symptoms', 'story_position': 3, 'domain': 'www.cbsnews.com'}, {'title': 'Coronavirus: Headache, loss of taste among list of 6 new possible COVID-19 \\nsymptoms, according to CDC', 'url': 'https://abc7ny.com/health/cdc-adds-6-new-possible-symptoms-of-covid-19/6130502/', 'source': 'ABC7 New York', 'time': '1 hour ago', 'date': '2020-04-26 10:00:00', 'query': 'coronavirus symptoms', 'story_position': 4, 'domain': 'abc7ny.com'}, {'title': 'CDC updates list of possible coronavirus symptoms', 'url': 'https://www.wkrn.com/community/health/coronavirus/cdc-updates-list-of-possible-coronavirus-symptoms/', 'source': 'WKRN.com', 'time': '2 hours ago', 'date': '2020-04-26 10:00:00', 'query': 'coronavirus symptoms', 'story_position': 5, 'domain': 'www.wkrn.com'}, {'title': 'CDC adds six new symptoms for coronavirus', 'url': 'https://www.ajc.com/news/the-cdc-adds-six-new-symptoms-for-coronavirus/jGrO3yH486Q1tKtXKdSwFJ/', 'source': 'AJC.com', 'time': '9 hours ago', 'date': '2020-04-26 10:00:00', 'query': 'coronavirus symptoms', 'story_position': 6, 'domain': 'www.ajc.com'}, {'title': 'CDC: Here Are 6 New Possible Symptoms Of COVID-19 Coronavirus', 'url': 'https://www.forbes.com/sites/brucelee/2020/04/25/cdc-here-are-6-new-possible-symptoms-of-covid-19-coronavirus/', 'source': 'Forbes', 'time': '12 hours ago', 'date': '2020-04-26 10:00:00', 'query': 'coronavirus symptoms', 'story_position': 7, 'domain': 'www.forbes.com'}, {'title': 'CDC adds 6 new COVID-19 symptoms', 'url': 'https://www.10tv.com/article/cdc-adds-6-new-covid-19-symptoms-2020-apr', 'source': 'WBNS-10TV Columbus, Ohio', 'time': '13 hours ago', 'date': '2020-04-26 10:00:00', 'query': 'coronavirus symptoms', 'story_position': 8, 'domain': 'www.10tv.com'}, {'title': \"CDC's new COVID-19 symptoms: loss of smell, sore throat, aches, chills - \\nInsider\", 'url': 'https://www.insider.com/what-are-new-cdc-covid19-symptoms-chills-sore-throat-headache-2020-4', 'source': 'Insider', 'time': '22 hours ago', 'date': '2020-04-26 10:00:00', 'query': 'coronavirus symptoms', 'story_position': 9, 'domain': 'www.insider.com'}, {'title': 'Coronavirus FAQs: Are There Lots Of Cases With No Symptoms? Can I See A \\nDentist? : Goats and Soda', 'url': 'https://www.npr.org/sections/goatsandsoda/2020/04/24/844325330/coronavirus-faqs-does-a-bigger-dose-make-you-sicker-can-you-go-to-the-dentist', 'source': 'NPR', 'time': '1 day ago', 'date': '2020-04-26 10:00:00', 'query': 'coronavirus symptoms', 'story_position': 10, 'domain': 'www.npr.org'}]\n",
      "[{'title': 'Coronavirus: New York to allow tests in pharmacies', 'url': 'https://www.bbc.com/news/world-us-canada-52428994', 'source': 'BBC', 'time': '10 hours ago', 'date': '2020-04-26 10:00:00', 'query': 'coronavirus test', 'story_position': 1, 'domain': 'www.bbc.com'}, {'title': 'Fauci says coronavirus tests need to double before lockdowns are lifted', 'url': 'https://nypost.com/2020/04/26/coronavirus-tests-must-double-before-lockdowns-are-lifted-fauci/', 'source': 'New York Post', 'time': '1 hour ago', 'date': '2020-04-26 10:00:00', 'query': 'coronavirus test', 'story_position': 2, 'domain': 'nypost.com'}, {'title': 'Coronavirus updates: Global cases near 3 million as CDC flags new symptoms', 'url': 'https://www.cbsnews.com/live-updates/coronavirus-update-covid-19-2020-04-26/', 'source': 'CBS News', 'time': '10 mins ago', 'date': '2020-04-26 10:00:00', 'query': 'coronavirus test', 'story_position': 3, 'domain': 'www.cbsnews.com'}]\n",
      "[{'title': 'Worldwide coronavirus death toll passes 203,000: Live updates', 'url': 'https://www.cnn.com/world/live-news/coronavirus-pandemic-04-26-20-intl/index.html', 'source': 'CNN.com', 'time': '5 mins ago', 'date': '2020-04-26 10:00:00', 'query': 'coronavirus', 'story_position': 1, 'domain': 'www.cnn.com'}, {'title': 'NYC man released from Rikers Island over coronavirus arrested on new rape \\ncharge: report', 'url': 'https://www.foxnews.com/us/new-york-brooklyn-inmate-rikers-island-rape-arrest-coronavirus', 'source': 'Fox News', 'time': '52 mins ago', 'date': '2020-04-26 10:00:00', 'query': 'coronavirus', 'story_position': 2, 'domain': 'www.foxnews.com'}, {'title': 'Coronavirus updates: Global cases near 3 million as CDC flags new symptoms', 'url': 'https://www.cbsnews.com/live-updates/coronavirus-update-covid-19-2020-04-26/', 'source': 'CBS News', 'time': '9 mins ago', 'date': '2020-04-26 10:00:00', 'query': 'coronavirus', 'story_position': 3, 'domain': 'www.cbsnews.com'}, {'title': 'Five counties tell next phase of coronavirus story', 'url': 'https://www.nbcnews.com/politics/meet-the-press/five-counties-tell-next-phase-coronavirus-story-n1192781', 'source': 'NBC News', 'time': '11 mins ago', 'date': '2020-04-26 10:00:00', 'query': 'coronavirus', 'story_position': 4, 'domain': 'www.nbcnews.com'}, {'title': \"Tom Brady gets 'apology' from Tampa Bay mayor after ouster from \\ncoronavirus-closed park\", 'url': 'https://www.foxnews.com/us/tom-brady-tampa-bay-mayor-apology', 'source': 'Fox News', 'time': '32 mins ago', 'date': '2020-04-26 10:00:00', 'query': 'coronavirus', 'story_position': 5, 'domain': 'www.foxnews.com'}, {'title': 'Coronavirus: French police seize 140,000 black market masks', 'url': 'https://www.bbc.com/news/world-europe-52430738', 'source': 'BBC', 'time': '1 hour ago', 'date': '2020-04-26 10:00:00', 'query': 'coronavirus', 'story_position': 6, 'domain': 'www.bbc.com'}, {'title': 'April 26 morning update: The latest on the coronavirus and Maine', 'url': 'https://bangordailynews.com/2020/04/26/news/state/april-26-morning-update-the-latest-on-the-coronavirus-and-maine/', 'source': 'Bangor Daily News', 'time': '2 hours ago', 'date': '2020-04-26 10:00:00', 'query': 'coronavirus', 'story_position': 7, 'domain': 'bangordailynews.com'}, {'title': 'Italy and Spain announce plans to ease coronavirus lockdowns further', 'url': 'https://www.politico.com/news/2020/04/26/italy-spain-coronavirus-lockdown-208260', 'source': 'Politico', 'time': '3 hours ago', 'date': '2020-04-26 10:00:00', 'query': 'coronavirus', 'story_position': 8, 'domain': 'www.politico.com'}, {'title': \"Why 'SNL' isn't dying from the coronavirus: It's not just Brad Pitt and \\nMiley Cyrus\", 'url': 'https://nypost.com/2020/04/26/why-snl-isnt-dying-from-the-coronavirus-its-not-just-brad-pitt-and-miley-cyrus/', 'source': 'New York Post', 'time': '9 hours ago', 'date': '2020-04-26 10:00:00', 'query': 'coronavirus', 'story_position': 9, 'domain': 'nypost.com'}, {'title': 'Track your coronavirus stimulus check status with IRS Get My Payment website', 'url': 'https://www.cnet.com/personal-finance/track-your-coronavirus-stimulus-check-status-with-irs-get-my-payment-website/', 'source': 'CNet', 'time': '9 hours ago', 'date': '2020-04-26 10:00:00', 'query': 'coronavirus', 'story_position': 10, 'domain': 'www.cnet.com'}]\n",
      "[{'title': 'Coronavirus updates: CDC adds 6 new possible symptoms of COVID-19', 'url': 'https://abcnews.go.com/US/coronavirus-live-updates-cdc-adds-symptoms-covid-19/story?id=70351472', 'source': 'ABC News', 'time': '49 mins ago', 'date': '2020-04-26 10:00:00', 'query': 'Covid-19', 'story_position': 1, 'domain': 'abcnews.go.com'}, {'title': 'WHO says no evidence shows that having coronavirus prevents a second \\ninfection', 'url': 'https://www.cnn.com/2020/04/25/us/who-immunity-antibodies-covid-19/index.html', 'source': 'CNN.com', 'time': '18 hours ago', 'date': '2020-04-26 10:00:00', 'query': 'Covid-19', 'story_position': 2, 'domain': 'www.cnn.com'}, {'title': 'Wuhan Reports No New COVID-19 Hospitalizations', 'url': 'https://www.forbes.com/sites/lisettevoytko/2020/04/26/wuhan-reports-no-new-covid-19-hospitalizations/', 'source': 'Forbes', 'time': '39 mins ago', 'date': '2020-04-26 10:00:00', 'query': 'Covid-19', 'story_position': 3, 'domain': 'www.forbes.com'}, {'title': 'Virginia April 26 COVID-19 Update: 604 new cases with 12 deaths', 'url': 'https://www.wavy.com/news/health/coronavirus/virginia-april-26-covid-19-update-604-new-cases-with-12-deaths/', 'source': 'WAVY.com', 'time': '1 hour ago', 'date': '2020-04-26 10:00:00', 'query': 'Covid-19', 'story_position': 4, 'domain': 'www.wavy.com'}, {'title': 'States try to find balance of reopening within Covid-19 curve', 'url': 'https://www.cnn.com/videos/politics/2020/04/26/john-king-states-reopen-coronavirus-magic-wall-ip-vpx.cnn', 'source': 'CNN.com', 'time': '1 hour ago', 'date': '2020-04-26 10:00:00', 'query': 'Covid-19', 'story_position': 5, 'domain': 'www.cnn.com'}, {'title': 'Coronavirus: 17 police officers die of Covid-19 in Peru', 'url': 'https://www.bbc.com/news/world-latin-america-52432216', 'source': 'BBC', 'time': '1 hour ago', 'date': '2020-04-26 10:00:00', 'query': 'Covid-19', 'story_position': 6, 'domain': 'www.bbc.com'}, {'title': 'Baystate Health has been leading the way in treatment for COVID-19 by \\nkeeping patients off ventilators', 'url': 'https://www.masslive.com/coronavirus/2020/04/baystate-health-has-been-leading-the-way-in-treatment-for-covid-19-by-keeping-patients-off-ventilators.html', 'source': 'MassLive.com', 'time': '2 hours ago', 'date': '2020-04-26 10:00:00', 'query': 'Covid-19', 'story_position': 7, 'domain': 'www.masslive.com'}, {'title': '6 Ways To Fight Coronavirus In The Developing World : Goats and Soda', 'url': 'https://www.npr.org/sections/goatsandsoda/2020/04/26/844207862/6-solutions-to-beat-covid-19-in-countries-where-the-usual-advice-just-wont-work', 'source': 'NPR', 'time': '3 hours ago', 'date': '2020-04-26 10:00:00', 'query': 'Covid-19', 'story_position': 8, 'domain': 'www.npr.org'}, {'title': \"America needs universal COVID-19 testing. Here's how we'll get there.\", 'url': 'https://www.nbcnews.com/health/health-news/america-needs-universal-covid-19-testing-here-s-how-we-n1192146', 'source': 'NBC News', 'time': '5 hours ago', 'date': '2020-04-26 10:00:00', 'query': 'Covid-19', 'story_position': 9, 'domain': 'www.nbcnews.com'}, {'title': 'Bill Gates Explains How We Get Past Covid-19, and What That Really Means', 'url': 'https://www.inc.com/jason-aten/bill-gates-explains-how-we-get-past-covid-19-what-that-really-means.html', 'source': 'Inc.com', 'time': '5 hours ago', 'date': '2020-04-26 10:00:00', 'query': 'Covid-19', 'story_position': 10, 'domain': 'www.inc.com'}]\n",
      "[{'title': 'Coronavirus updates: CDC adds 6 new possible symptoms of COVID-19', 'url': 'https://abcnews.go.com/US/coronavirus-live-updates-cdc-adds-symptoms-covid-19/story?id=70351472', 'source': 'ABC News', 'time': '12 hours ago', 'date': '2020-04-26 22:00:00', 'query': 'coronavirus symptoms', 'story_position': 1, 'domain': 'abcnews.go.com'}, {'title': 'These are the 6 new possible symptoms of the coronavirus the CDC added to \\nits list', 'url': 'https://www.usatoday.com/story/news/health/2020/04/26/coronavirus-symptoms-cdc-adds-six-new-symptoms-covid-19/3029438001/', 'source': 'USA Today', 'time': '9 hours ago', 'date': '2020-04-26 22:00:00', 'query': 'coronavirus symptoms', 'story_position': 2, 'domain': 'www.usatoday.com'}, {'title': 'CDC adds 6 new symptoms of coronavirus to list', 'url': 'https://fox6now.com/2020/04/26/cdc-adds-6-new-symptoms-of-coronavirus-to-list/', 'source': 'FOX6Now.com', 'time': '3 hours ago', 'date': '2020-04-26 22:00:00', 'query': 'coronavirus symptoms', 'story_position': 3, 'domain': 'fox6now.com'}, {'title': \"Here's the biggest news you missed this weekend\", 'url': 'https://www.usatoday.com/story/news/2020/04/26/coronavirus-new-symptoms-kim-jung-un-health-chris-matthews-harassment-weekends-biggest-news/3029501001/', 'source': 'USA Today', 'time': '5 hours ago', 'date': '2020-04-26 22:00:00', 'query': 'coronavirus symptoms', 'story_position': 4, 'domain': 'www.usatoday.com'}, {'title': 'CDC Adds 6 New Coronavirus Symptoms', 'url': 'https://wcbs880.radio.com/articles/cdc-adds-6-new-coronavirus-symptoms', 'source': 'WCBS 880 - Radio.com', 'time': '10 hours ago', 'date': '2020-04-26 22:00:00', 'query': 'coronavirus symptoms', 'story_position': 5, 'domain': 'wcbs880.radio.com'}, {'title': 'To Suppress the Coronavirus, Test Those With No Symptoms', 'url': 'https://www.nytimes.com/2020/04/26/opinion/coronavirus-test-asymptomatic.html', 'source': 'The New York Times', 'time': '11 hours ago', 'date': '2020-04-26 22:00:00', 'query': 'coronavirus symptoms', 'story_position': 6, 'domain': 'www.nytimes.com'}, {'title': 'Coronavirus: Headache, loss of taste among list of 6 new possible COVID-19 \\nsymptoms, according to CDC', 'url': 'https://6abc.com/coronavirus-symptoms-cdc-tips-news/6130502/', 'source': 'WPVI Philadelphia', 'time': '13 hours ago', 'date': '2020-04-26 22:00:00', 'query': 'coronavirus symptoms', 'story_position': 7, 'domain': '6abc.com'}, {'title': 'CDC adds 6 new possible coronavirus symptoms', 'url': 'https://www.axios.com/coronavirus-new-symptoms-cdc-1071ad1e-3ca3-458d-9a3c-ea91caf3a821.html', 'source': 'Axios', 'time': '1 day ago', 'date': '2020-04-26 22:00:00', 'query': 'coronavirus symptoms', 'story_position': 8, 'domain': 'www.axios.com'}, {'title': 'Six new coronavirus symptoms just officially added to CDC list. What are \\nthey?', 'url': 'https://www.miamiherald.com/news/coronavirus/article242260231.html', 'source': 'Miami Herald', 'time': '2 days ago', 'date': '2020-04-26 22:00:00', 'query': 'coronavirus symptoms', 'story_position': 9, 'domain': 'www.miamiherald.com'}, {'title': 'CDC adds 6 new symptoms of coronavirus to list', 'url': 'https://www.fox10phoenix.com/news/cdc-adds-6-new-symptoms-of-coronavirus-to-list', 'source': 'FOX 10 Phoenix', 'time': '2 days ago', 'date': '2020-04-26 22:00:00', 'query': 'coronavirus symptoms', 'story_position': 10, 'domain': 'www.fox10phoenix.com'}]\n",
      "[{'title': 'Bill Gates explains how the United States can safely ease coronavirus \\nrestrictions', 'url': 'https://www.cnn.com/2020/04/26/business/bill-gates-coronavirus-reopening-gps/index.html', 'source': 'CNN.com', 'time': '3 hours ago', 'date': '2020-04-26 22:00:00', 'query': 'coronavirus test', 'story_position': 1, 'domain': 'www.cnn.com'}, {'title': 'New York clinical trial testing heartburn medication as coronavirus \\ntreatment', 'url': 'https://nypost.com/2020/04/26/ny-clinical-trial-testing-heartburn-medication-as-coronavirus-treatment/', 'source': 'New York Post', 'time': '1 hour ago', 'date': '2020-04-26 22:00:00', 'query': 'coronavirus test', 'story_position': 2, 'domain': 'nypost.com'}, {'title': 'Coronavirus pandemic: Updates from around the world', 'url': 'https://www.cnn.com/world/live-news/coronavirus-pandemic-04-27-20-intl/index.html', 'source': 'CNN.com', 'time': '17 mins ago', 'date': '2020-04-26 22:00:00', 'query': 'coronavirus test', 'story_position': 3, 'domain': 'www.cnn.com'}]\n",
      "[{'title': 'Coronavirus updates: CDC adds 6 new possible symptoms of COVID-19', 'url': 'https://abcnews.go.com/US/coronavirus-live-updates-cdc-adds-symptoms-covid-19/story?id=70351472', 'source': 'ABC News', 'time': '12 hours ago', 'date': '2020-04-26 22:00:00', 'query': 'coronavirus', 'story_position': 1, 'domain': 'abcnews.go.com'}, {'title': \"New York couple suing Chinese government: Coronavirus' 'impact has been \\npretty big'\", 'url': 'https://www.foxnews.com/media/new-york-couple-sues-china-coronavirus-impact', 'source': 'Fox News', 'time': '1 hour ago', 'date': '2020-04-26 22:00:00', 'query': 'coronavirus', 'story_position': 2, 'domain': 'www.foxnews.com'}, {'title': \"Reporter's Notebook: Coronavirus and the era of big government\", 'url': 'https://www.foxnews.com/politics/coronavirus-big-government-era-pergram', 'source': 'Fox News', 'time': '11 mins ago', 'date': '2020-04-26 22:00:00', 'query': 'coronavirus', 'story_position': 3, 'domain': 'www.foxnews.com'}, {'title': 'Coronavirus pandemic: Updates from around the world', 'url': 'https://www.cnn.com/world/live-news/coronavirus-pandemic-04-27-20-intl/index.html', 'source': 'CNN.com', 'time': '16 mins ago', 'date': '2020-04-26 22:00:00', 'query': 'coronavirus', 'story_position': 4, 'domain': 'www.cnn.com'}, {'title': 'India announces rollback of coronavirus lockdown restrictions', 'url': 'https://www.foxnews.com/world/india-rollback-coronavirus-lockdown-restrictions', 'source': 'Fox News', 'time': '46 mins ago', 'date': '2020-04-26 22:00:00', 'query': 'coronavirus', 'story_position': 5, 'domain': 'www.foxnews.com'}, {'title': 'New York clinical trial testing heartburn medication as coronavirus \\ntreatment', 'url': 'https://nypost.com/2020/04/26/ny-clinical-trial-testing-heartburn-medication-as-coronavirus-treatment/', 'source': 'New York Post', 'time': '1 hour ago', 'date': '2020-04-26 22:00:00', 'query': 'coronavirus', 'story_position': 6, 'domain': 'nypost.com'}, {'title': 'The noble art of sarcasm: Trump replaces coronavirus briefing with tweets', 'url': 'https://www.politico.com/news/2020/04/26/trump-replaces-coronavirus-briefing-anti-media-tweets-210037', 'source': 'Politico', 'time': '2 hours ago', 'date': '2020-04-26 22:00:00', 'query': 'coronavirus', 'story_position': 7, 'domain': 'www.politico.com'}, {'title': 'Bill Gates explains how the United States can safely ease coronavirus \\nrestrictions', 'url': 'https://www.cnn.com/2020/04/26/business/bill-gates-coronavirus-reopening-gps/index.html', 'source': 'CNN.com', 'time': '2 hours ago', 'date': '2020-04-26 22:00:00', 'query': 'coronavirus', 'story_position': 8, 'domain': 'www.cnn.com'}, {'title': 'Coronavirus: The US resistance to a continued lockdown', 'url': 'https://www.bbc.com/news/world-us-canada-52417610', 'source': 'BBC', 'time': '3 hours ago', 'date': '2020-04-26 22:00:00', 'query': 'coronavirus', 'story_position': 9, 'domain': 'www.bbc.com'}, {'title': \"Coronavirus live updates: U.S. reaches 'plateau,' nears 1 million cases; \\nGOP governor calls out Trump; last patient leaves hospital in Wuhan\", 'url': 'https://www.usatoday.com/story/news/health/2020/04/26/coronavirus-updates-georgia-mayor-asks-churches-not-open/3013443001/', 'source': 'USA Today', 'time': '3 hours ago', 'date': '2020-04-26 22:00:00', 'query': 'coronavirus', 'story_position': 10, 'domain': 'www.usatoday.com'}]\n",
      "[{'title': 'Coronavirus updates: CDC adds 6 new possible symptoms of COVID-19', 'url': 'https://abcnews.go.com/US/coronavirus-live-updates-cdc-adds-symptoms-covid-19/story?id=70351472', 'source': 'ABC News', 'time': '12 hours ago', 'date': '2020-04-26 22:00:00', 'query': 'Covid-19', 'story_position': 1, 'domain': 'abcnews.go.com'}, {'title': 'Reviving America after Covid-19 will take years, not months', 'url': 'https://www.cnn.com/2020/04/26/world/meanwhile-in-america-april-24/index.html', 'source': 'CNN.com', 'time': '1 hour ago', 'date': '2020-04-26 22:00:00', 'query': 'Covid-19', 'story_position': 2, 'domain': 'www.cnn.com'}, {'title': 'Coronavirus updates: Spain and Italy begin to ease lockdown measures; USNS \\nComfort discharges last COVID-19 patient', 'url': 'https://www.cbsnews.com/live-updates/coronavirus-update-covid-19-2020-04-26/', 'source': 'CBS News', 'time': '47 mins ago', 'date': '2020-04-26 22:00:00', 'query': 'Covid-19', 'story_position': 3, 'domain': 'www.cbsnews.com'}, {'title': 'DeSantis describes Florida as ‘God’s waiting room’ at COVID-19 briefing', 'url': 'https://www.local10.com/news/local/2020/04/27/desantis-describes-florida-as-gods-waiting-room-at-covid-19-briefing-when-discussing-nursing-homes/', 'source': 'WPLG', 'time': '48 mins ago', 'date': '2020-04-26 22:00:00', 'query': 'Covid-19', 'story_position': 4, 'domain': 'www.local10.com'}, {'title': 'Where are Harris County’s COVID-19 cases? Concentrated in at-risk \\nneighborhoods', 'url': 'https://www.houstonchronicle.com/news/houston-texas/houston/article/Where-are-Harris-County-s-COVID-19-cases-15227180.php', 'source': 'Houston Chronicle', 'time': '2 hours ago', 'date': '2020-04-26 22:00:00', 'query': 'Covid-19', 'story_position': 5, 'domain': 'www.houstonchronicle.com'}, {'title': '77 new COVID-19 cases in NH, but no new deaths', 'url': 'https://www.unionleader.com/news/health/coronavirus/77-new-covid-19-cases-in-nh-but-no-new-deaths/article_8a6d196e-06cf-5b12-b5e4-b5e4737e6f7d.html', 'source': 'Union Leader', 'time': '3 hours ago', 'date': '2020-04-26 22:00:00', 'query': 'Covid-19', 'story_position': 6, 'domain': 'www.unionleader.com'}, {'title': 'Assisted-living sites struggle with COVID-19 in shadow of nursing home \\ncrisis', 'url': 'https://www.bostonglobe.com/2020/04/26/metro/assisted-living-sites-struggle-with-covid-19-shadow-nursing-home-crisis/', 'source': 'The Boston Globe', 'time': '3 hours ago', 'date': '2020-04-26 22:00:00', 'query': 'Covid-19', 'story_position': 7, 'domain': 'www.bostonglobe.com'}, {'title': 'Coronavirus in Massachusetts: 2,899 deaths, 54,938 COVID-19 cases total', 'url': 'https://www.wwlp.com/news/health/coronavirus-local-impact/coronavirus-in-massachusetts-2899-deaths-54938-covid-19-cases-total/', 'source': 'WWLP', 'time': '4 hours ago', 'date': '2020-04-26 22:00:00', 'query': 'Covid-19', 'story_position': 8, 'domain': 'www.wwlp.com'}, {'title': 'WHO Deletes Misleading Tweet That Spread Paranoia About COVID-19 Reinfection', 'url': 'https://reason.com/2020/04/26/world-health-organization-tweet-coronavirus-covid-19-antibodies/', 'source': 'Reason Magazine', 'time': '5 hours ago', 'date': '2020-04-26 22:00:00', 'query': 'Covid-19', 'story_position': 9, 'domain': 'reason.com'}, {'title': 'East Bay coronavirus cases climb, Santa Clara County virus death toll \\nreaches 100', 'url': 'https://www.mercurynews.com/santa-clara-county-coronavirus-deaths-reach-100', 'source': 'The Mercury News', 'time': '8 hours ago', 'date': '2020-04-26 22:00:00', 'query': 'Covid-19', 'story_position': 10, 'domain': 'www.mercurynews.com'}]\n",
      "[{'title': 'CDC Adds 6 Symptoms To Its COVID-19 List : Coronavirus Live Updates', 'url': 'https://www.npr.org/sections/coronavirus-live-updates/2020/04/27/845321155/cdc-adds-6-symptoms-to-its-covid-19-list', 'source': 'NPR', 'time': '3 hours ago', 'date': '2020-04-27 10:00:00', 'query': 'coronavirus symptoms', 'story_position': 1, 'domain': 'www.npr.org'}, {'title': 'CDC adds 6 new coronavirus symptoms to list', 'url': 'https://www.foxnews.com/health/cdc-6-new-coronavirus-symptoms-list', 'source': 'Fox News', 'time': '1 hour ago', 'date': '2020-04-27 10:00:00', 'query': 'coronavirus symptoms', 'story_position': 2, 'domain': 'www.foxnews.com'}, {'title': 'CDC adds six new possible symptoms of coronavirus, including chills, \\nheadache', 'url': 'https://nypost.com/2020/04/27/cdc-adds-6-new-possible-symptoms-of-coronavirus-to-list/', 'source': 'New York Post', 'time': '26 mins ago', 'date': '2020-04-27 10:00:00', 'query': 'coronavirus symptoms', 'story_position': 3, 'domain': 'nypost.com'}, {'title': 'CDC adds 6 new coronavirus symptoms', 'url': 'https://www.al.com/news/2020/04/cdc-adds-6-new-coronavirus-symptoms.html', 'source': 'AL.com', 'time': '1 hour ago', 'date': '2020-04-27 10:00:00', 'query': 'coronavirus symptoms', 'story_position': 4, 'domain': 'www.al.com'}, {'title': 'CDC adds 6 possible signs of novel coronavirus to its symptoms list', 'url': 'https://www.local10.com/news/local/2020/04/27/cdc-adds-6-possible-signs-of-novel-coronavirus-to-its-symptoms-list/', 'source': 'WPLG', 'time': '1 hour ago', 'date': '2020-04-27 10:00:00', 'query': 'coronavirus symptoms', 'story_position': 5, 'domain': 'www.local10.com'}, {'title': 'Skin Rashes May Be Symptom of Coronavirus, Scientists Say', 'url': 'https://www.newsweek.com/skin-rash-coronavirus-symptom-italy-1500308', 'source': 'Newsweek', 'time': '3 hours ago', 'date': '2020-04-27 10:00:00', 'query': 'coronavirus symptoms', 'story_position': 6, 'domain': 'www.newsweek.com'}, {'title': 'US Health Officials Expand List of COVID-19 Symptoms', 'url': 'https://www.voanews.com/covid-19-pandemic/us-health-officials-expand-list-covid-19-symptoms', 'source': 'Voice of America', 'time': '4 hours ago', 'date': '2020-04-27 10:00:00', 'query': 'coronavirus symptoms', 'story_position': 7, 'domain': 'www.voanews.com'}, {'title': 'New coronavirus symptoms added to CDC list for potential signs of infection', 'url': 'https://www.post-gazette.com/news/health/2020/04/27/CDC-coronavirus-symptoms-six-new-possible-added-list-COVID-19/stories/202004260153', 'source': 'Pittsburgh Post-Gazette', 'time': '6 hours ago', 'date': '2020-04-27 10:00:00', 'query': 'coronavirus symptoms', 'story_position': 8, 'domain': 'www.post-gazette.com'}, {'title': 'CDC Adds 6 New Coronavirus Symptoms', 'url': 'https://wcbs880.radio.com/articles/cdc-adds-6-new-coronavirus-symptoms', 'source': 'WCBS 880 - Radio.com', 'time': '22 hours ago', 'date': '2020-04-27 10:00:00', 'query': 'coronavirus symptoms', 'story_position': 9, 'domain': 'wcbs880.radio.com'}, {'title': 'To Suppress the Coronavirus, Test Those With No Symptoms', 'url': 'https://www.nytimes.com/2020/04/26/opinion/coronavirus-test-asymptomatic.html', 'source': 'The New York Times', 'time': '23 hours ago', 'date': '2020-04-27 10:00:00', 'query': 'coronavirus symptoms', 'story_position': 10, 'domain': 'www.nytimes.com'}]\n",
      "[{'title': 'CDC Adds 6 Symptoms To Its COVID-19 List : Coronavirus Live Updates', 'url': 'https://www.npr.org/sections/coronavirus-live-updates/2020/04/27/845321155/cdc-adds-6-symptoms-to-its-covid-19-list', 'source': 'NPR', 'time': '3 hours ago', 'date': '2020-04-27 10:00:00', 'query': 'coronavirus test', 'story_position': 1, 'domain': 'www.npr.org'}, {'title': 'Heartburn medication being tested as coronavirus treatment in NYC hospitals', 'url': 'https://www.foxnews.com/science/heartburn-medication-being-tested-as-coronavirus-treatment-in-nyc-hospitals', 'source': 'Fox News', 'time': '58 mins ago', 'date': '2020-04-27 10:00:00', 'query': 'coronavirus test', 'story_position': 2, 'domain': 'www.foxnews.com'}, {'title': 'Leprino Foods Processing Plant Shuts Down After Coronavirus Testing', 'url': 'https://denver.cbslocal.com/2020/04/27/fort-morgan-food-processing-leprino-plant-shuts-down-coronavirus-testing/', 'source': 'CBS Denver', 'time': '22 mins ago', 'date': '2020-04-27 10:00:00', 'query': 'coronavirus test', 'story_position': 3, 'domain': 'denver.cbslocal.com'}, {'title': 'Telluride tested nearly everyone for coronavirus. But the crisis in New \\nYork delayed the results, and their usefulness.', 'url': 'https://www.washingtonpost.com/national/coronavirus-testing-telluride-colorado/2020/04/27/87e2f932-8624-11ea-878a-86477a724bdb_story.html', 'source': 'Washington Post', 'time': '1 hour ago', 'date': '2020-04-27 10:00:00', 'query': 'coronavirus test', 'story_position': 4, 'domain': 'www.washingtonpost.com'}, {'title': 'Many states short of Covid-19 testing levels needed for reopening', 'url': 'https://www.statnews.com/2020/04/27/coronavirus-many-states-short-of-testing-levels-needed-for-safe-reopening/', 'source': 'Stat', 'time': '5 hours ago', 'date': '2020-04-27 10:00:00', 'query': 'coronavirus test', 'story_position': 5, 'domain': 'www.statnews.com'}, {'title': 'Bill Gates explains how the United States can safely ease coronavirus \\nrestrictions', 'url': 'https://www.cnn.com/2020/04/26/business/bill-gates-coronavirus-reopening-gps/index.html', 'source': 'CNN.com', 'time': '5 hours ago', 'date': '2020-04-27 10:00:00', 'query': 'coronavirus test', 'story_position': 6, 'domain': 'www.cnn.com'}, {'title': 'Unreliable antibody tests flood the market as FDA waives quality reviews', 'url': 'https://www.politico.com/news/2020/04/27/reliable-antibody-tests-coronavirus-207589', 'source': 'Politico', 'time': '5 hours ago', 'date': '2020-04-27 10:00:00', 'query': 'coronavirus test', 'story_position': 7, 'domain': 'www.politico.com'}, {'title': \"Birx says US needs a testing 'breakthrough' to screen large numbers of \\npeople\", 'url': 'https://www.cnn.com/2020/04/26/politics/coronavirus-testing-deborah-birx/index.html', 'source': 'CNN.com', 'time': '16 hours ago', 'date': '2020-04-27 10:00:00', 'query': 'coronavirus test', 'story_position': 8, 'domain': 'www.cnn.com'}, {'title': 'Coronavirus: Ohio changes priority testing guidelines as nursing homes race \\nto identify asymptomatic carriers', 'url': 'https://www.dispatch.com/news/20200426/coronavirus-ohio-changes-priority-testing-guidelines-as-nursing-homes-race-to-identify-asymptomatic-carriers', 'source': 'The Columbus Dispatch', 'time': '16 hours ago', 'date': '2020-04-27 10:00:00', 'query': 'coronavirus test', 'story_position': 9, 'domain': 'www.dispatch.com'}, {'title': \"Mom with COVID-19 delivers twins as husband faced death: 'Let me live'\", 'url': 'https://www.usatoday.com/story/news/nation/2020/04/26/coronavirus-covid-19-mom-delivers-twins-husband-faced-death/3030274001/', 'source': 'USA Today', 'time': '18 hours ago', 'date': '2020-04-27 10:00:00', 'query': 'coronavirus test', 'story_position': 10, 'domain': 'www.usatoday.com'}]\n",
      "[{'title': 'Coronavirus pandemic in the US: Live updates', 'url': 'https://www.cnn.com/us/live-news/us-coronavirus-update-04-27-20/index.html', 'source': 'CNN.com', 'time': '8 mins ago', 'date': '2020-04-27 10:00:00', 'query': 'coronavirus', 'story_position': 1, 'domain': 'www.cnn.com'}, {'title': 'CDC Adds 6 Symptoms To Its COVID-19 List : Coronavirus Live Updates', 'url': 'https://www.npr.org/sections/coronavirus-live-updates/2020/04/27/845321155/cdc-adds-6-symptoms-to-its-covid-19-list', 'source': 'NPR', 'time': '3 hours ago', 'date': '2020-04-27 10:00:00', 'query': 'coronavirus', 'story_position': 2, 'domain': 'www.npr.org'}, {'title': 'Coronavirus updates: More states easing lockdowns as U.S. deaths near 55,000', 'url': 'https://www.cbsnews.com/live-updates/coronavirus-update-covid-19-2020-04-27/', 'source': 'CBS News', 'time': '10 mins ago', 'date': '2020-04-27 10:00:00', 'query': 'coronavirus', 'story_position': 3, 'domain': 'www.cbsnews.com'}, {'title': \"Wisconsin judge elected amid coronavirus pandemic calls victory \\n'bittersweet' following an 'uptick' in state's cases\", 'url': 'https://www.cnn.com/2020/04/27/politics/wisconsin-judge-jill-karofsky-election-bittersweet/index.html', 'source': 'CNN.com', 'time': '21 mins ago', 'date': '2020-04-27 10:00:00', 'query': 'coronavirus', 'story_position': 4, 'domain': 'www.cnn.com'}, {'title': 'Second Russian doctor plunges to their death amid coronavirus outbreak', 'url': 'https://nypost.com/2020/04/27/russian-doctor-with-coronavirus-mysteriously-plunges-to-death/', 'source': 'New York Post', 'time': '22 mins ago', 'date': '2020-04-27 10:00:00', 'query': 'coronavirus', 'story_position': 5, 'domain': 'nypost.com'}, {'title': \"Washington state anglers protest fishing ban amid coronavirus outbreak: \\n'Let us fish'\", 'url': 'https://www.foxnews.com/great-outdoors/coroanvirus-washington-state-anglers-fishing-ban-protest', 'source': 'Fox News', 'time': '27 mins ago', 'date': '2020-04-27 10:00:00', 'query': 'coronavirus', 'story_position': 6, 'domain': 'www.foxnews.com'}, {'title': 'Where Has Jared Kushner Gone in the Fight Against Coronavirus?', 'url': 'https://www.thedailybeast.com/where-has-jared-kushner-gone-in-the-fight-against-coronavirus', 'source': 'The Daily Beast', 'time': '53 mins ago', 'date': '2020-04-27 10:00:00', 'query': 'coronavirus', 'story_position': 7, 'domain': 'www.thedailybeast.com'}, {'title': 'Porn stars adapt to survive amid coronavirus crisis', 'url': 'https://www.nydailynews.com/coronavirus/ny-porn-performers-adapt-to-survive-amid-coronavirus-lockdown-20200427-fkmndcuqfnaovjgk4jf3jlv33a-story.html', 'source': 'NY Daily News', 'time': '2 hours ago', 'date': '2020-04-27 10:00:00', 'query': 'coronavirus', 'story_position': 8, 'domain': 'www.nydailynews.com'}, {'title': 'Coronavirus unleashes insane bubble in these 5 stocks and it could end \\nbadly for the bulls', 'url': 'https://finance.yahoo.com/news/coronavirus-unleashes-insane-bubble-in-these-5-stocks-and-it-could-end-badly-for-the-bulls-104743336.html', 'source': 'Yahoo Finance', 'time': '3 hours ago', 'date': '2020-04-27 10:00:00', 'query': 'coronavirus', 'story_position': 9, 'domain': 'finance.yahoo.com'}, {'title': 'Freed of briefing duty, wounded Trump airs full collection of grievances on \\nTwitter, retweeting claim of ‘coup attempts’', 'url': 'https://www.washingtonpost.com/nation/2020/04/27/trump-twitter-media-coronavirus/', 'source': 'Washington Post', 'time': '3 hours ago', 'date': '2020-04-27 10:00:00', 'query': 'coronavirus', 'story_position': 10, 'domain': 'www.washingtonpost.com'}]\n",
      "[{'title': 'New York hospitals are studying a common heartburn drug as treatment for \\nCovid-19', 'url': 'https://www.cnn.com/2020/04/27/health/famotidine-coronavirus-northwell-trial/index.html', 'source': 'CNN.com', 'time': '3 hours ago', 'date': '2020-04-27 10:00:00', 'query': 'Covid-19', 'story_position': 1, 'domain': 'www.cnn.com'}, {'title': 'CDC Adds 6 Symptoms To Its COVID-19 List : Coronavirus Live Updates', 'url': 'https://www.npr.org/sections/coronavirus-live-updates/2020/04/27/845321155/cdc-adds-6-symptoms-to-its-covid-19-list', 'source': 'NPR', 'time': '3 hours ago', 'date': '2020-04-27 10:00:00', 'query': 'Covid-19', 'story_position': 2, 'domain': 'www.npr.org'}, {'title': 'First Responders in Novi Raise Money For COVID-19 Testing', 'url': 'https://detroit.cbslocal.com/2020/04/27/first-responders-in-novi-raise-money-for-covid-19-testing/', 'source': 'CBS Detroit', 'time': '27 mins ago', 'date': '2020-04-27 10:00:00', 'query': 'Covid-19', 'story_position': 3, 'domain': 'detroit.cbslocal.com'}, {'title': 'Accomack adds 8 new COVID-19 cases; Northampton adds 4', 'url': 'https://shoredailynews.com/headlines/accomack-adds-8-new-covid-19-cases-northampton-adds-4/', 'source': 'Shore Daily News', 'time': '59 mins ago', 'date': '2020-04-27 10:00:00', 'query': 'Covid-19', 'story_position': 4, 'domain': 'shoredailynews.com'}, {'title': \"The Anti-Quarantine Protests Aren't About Covid-19\", 'url': 'https://www.wired.com/story/anti-lockdown-protests-online/', 'source': 'Wired', 'time': '1 hour ago', 'date': '2020-04-27 10:00:00', 'query': 'Covid-19', 'story_position': 5, 'domain': 'www.wired.com'}, {'title': 'Regeneron, Sanofi say Kevzara will only be tested in sickest COVID-19 \\npatients', 'url': 'http://www.marketwatch.com/story/regeneron-sanofi-say-kevzara-will-only-be-tested-in-sickest-covid-19-patients-2020-04-27', 'source': 'MarketWatch', 'time': '2 hours ago', 'date': '2020-04-27 10:00:00', 'query': 'Covid-19', 'story_position': 6, 'domain': 'www.marketwatch.com'}, {'title': 'Besides Remdesivir, These 2 COVID-19 Treatments Could Have Promise', 'url': 'https://www.fool.com/investing/2020/04/27/besides-remdesivir-these-2-covid-19-treatments-cou.aspx', 'source': 'The Motley Fool', 'time': '2 hours ago', 'date': '2020-04-27 10:00:00', 'query': 'Covid-19', 'story_position': 7, 'domain': 'www.fool.com'}, {'title': 'Closely watched arthritis drug disappoints as a Covid-19 treatment', 'url': 'https://www.statnews.com/2020/04/27/arthritis-drug-kevzara-disappoints-as-coronavirus-treatment/', 'source': 'Stat', 'time': '3 hours ago', 'date': '2020-04-27 10:00:00', 'query': 'Covid-19', 'story_position': 8, 'domain': 'www.statnews.com'}, {'title': 'Nursing home industry pushes for immunity from lawsuits during coronavirus \\nemergency', 'url': 'https://www.nbcnews.com/health/health-care/nursing-home-industry-pushes-immunity-lawsuits-during-coronavirus-emergency-n1192001', 'source': 'NBC News', 'time': '4 hours ago', 'date': '2020-04-27 10:00:00', 'query': 'Covid-19', 'story_position': 9, 'domain': 'www.nbcnews.com'}, {'title': 'Bradenton ‘church’ promotes drinking bleach to cure COVID-19. They \\nrecommended it to Trump', 'url': 'https://www.bradenton.com/news/coronavirus/article242304736.html', 'source': 'Bradenton Herald', 'time': '5 hours ago', 'date': '2020-04-27 10:00:00', 'query': 'Covid-19', 'story_position': 10, 'domain': 'www.bradenton.com'}]\n",
      "[{'title': 'CDC confirms six coronavirus symptoms showing up in patients over and over', 'url': 'https://www.washingtonpost.com/health/2020/04/27/six-new-coronavirus-symptoms/', 'source': 'Washington Post', 'time': '3 hours ago', 'date': '2020-04-27 22:00:00', 'query': 'coronavirus symptoms', 'story_position': 1, 'domain': 'www.washingtonpost.com'}, {'title': 'CDC Adds 6 Symptoms To Its COVID-19 List : Coronavirus Live Updates', 'url': 'https://www.npr.org/sections/coronavirus-live-updates/2020/04/27/845321155/cdc-adds-6-symptoms-to-its-covid-19-list', 'source': 'NPR', 'time': '15 hours ago', 'date': '2020-04-27 22:00:00', 'query': 'coronavirus symptoms', 'story_position': 2, 'domain': 'www.npr.org'}, {'title': 'CDC adds to list of coronavirus infection symptoms', 'url': 'https://www.latimes.com/science/story/2020-04-27/coronavirus-cdc-updates-list-of-covid-19-symptoms', 'source': 'Los Angeles Times', 'time': '1 hour ago', 'date': '2020-04-27 22:00:00', 'query': 'coronavirus symptoms', 'story_position': 3, 'domain': 'www.latimes.com'}, {'title': '6 new symptoms officially added to list of coronavirus (COVID-19) symptoms', 'url': 'https://www.clickondetroit.com/health/good-health/2020/04/27/6-new-symptoms-officially-added-to-list-of-coronavirus-covid-19-symptoms/', 'source': 'ClickOnDetroit', 'time': '3 hours ago', 'date': '2020-04-27 22:00:00', 'query': 'coronavirus symptoms', 'story_position': 4, 'domain': 'www.clickondetroit.com'}, {'title': 'Watch out for these six new coronavirus symptoms', 'url': 'https://www.marketwatch.com/story/watch-out-for-these-six-new-coronavirus-symptoms-2020-04-27', 'source': 'MarketWatch', 'time': '5 hours ago', 'date': '2020-04-27 22:00:00', 'query': 'coronavirus symptoms', 'story_position': 5, 'domain': 'www.marketwatch.com'}, {'title': 'CDC adds 6 symptoms to coronavirus list', 'url': 'https://www.nydailynews.com/coronavirus/ny-coronavirus-symptoms-new-cdc-added-list-20200427-3c5vd4ae5bhg5jezru4dxe4yhy-story.html', 'source': 'NY Daily News', 'time': '5 hours ago', 'date': '2020-04-27 22:00:00', 'query': 'coronavirus symptoms', 'story_position': 6, 'domain': 'www.nydailynews.com'}, {'title': 'New coronavirus symptoms identified as more than 1,900 new cases found in \\nIllinois', 'url': 'https://wgntv.com/news/coronavirus/over-1900-new-coronavirus-disease-cases-50-related-deaths-reported-in-illinois/', 'source': 'WGN-TV', 'time': '6 hours ago', 'date': '2020-04-27 22:00:00', 'query': 'coronavirus symptoms', 'story_position': 7, 'domain': 'wgntv.com'}, {'title': 'CDC confirms six new coronavirus symptoms that are showing up in patients \\nover and over', 'url': 'https://www.seattletimes.com/nation-world/cdc-confirms-six-new-coronavirus-symptoms-that-are-showing-up-in-patients-over-and-over/', 'source': 'The Seattle Times', 'time': '8 hours ago', 'date': '2020-04-27 22:00:00', 'query': 'coronavirus symptoms', 'story_position': 8, 'domain': 'www.seattletimes.com'}, {'title': \"Doctors find more cases of 'COVID toes' in dermatological registry. Here's \\nwhat they learned.\", 'url': 'https://www.usatoday.com/story/news/health/2020/04/27/coronavirus-doctors-learn-more-new-covid-19-symptom-covid-toes/3031743001/', 'source': 'USATODAY.com', 'time': '11 hours ago', 'date': '2020-04-27 22:00:00', 'query': 'coronavirus symptoms', 'story_position': 9, 'domain': 'www.usatoday.com'}, {'title': 'CDC Adds New Symptoms to Coronavirus List', 'url': 'https://www.nytimes.com/2020/04/27/health/coronavirus-symptoms-cdc.html', 'source': 'The New York Times', 'time': '11 hours ago', 'date': '2020-04-27 22:00:00', 'query': 'coronavirus symptoms', 'story_position': 10, 'domain': 'www.nytimes.com'}]\n",
      "[{'title': \"White House document says federal government is a test 'supplier of last \\nresort'\", 'url': 'https://www.cnn.com/2020/04/27/politics/white-house-testing-blueprint/index.html', 'source': 'CNN.com', 'time': '3 hours ago', 'date': '2020-04-27 22:00:00', 'query': 'coronavirus test', 'story_position': 1, 'domain': 'www.cnn.com'}, {'title': 'CDC confirms six coronavirus symptoms showing up in patients over and over', 'url': 'https://www.washingtonpost.com/health/2020/04/27/six-new-coronavirus-symptoms/', 'source': 'Washington Post', 'time': '3 hours ago', 'date': '2020-04-27 22:00:00', 'query': 'coronavirus test', 'story_position': 2, 'domain': 'www.washingtonpost.com'}, {'title': 'Antigen tests: the coronavirus \"breakthrough\" that a top White House \\nofficial says we need', 'url': 'https://www.cnn.com/2020/04/27/health/antigen-tests-coronavirus-breakthrough/index.html', 'source': 'CNN.com', 'time': '4 mins ago', 'date': '2020-04-27 22:00:00', 'query': 'coronavirus test', 'story_position': 3, 'domain': 'www.cnn.com'}]\n",
      "[{'title': 'Coronavirus pandemic: Updates from around the world', 'url': 'https://www.cnn.com/world/live-news/coronavirus-pandemic-04-28-20-intl/index.html', 'source': 'CNN.com', 'time': '17 mins ago', 'date': '2020-04-27 22:00:00', 'query': 'coronavirus', 'story_position': 1, 'domain': 'www.cnn.com'}, {'title': \"Restaurants Open in Tennessee As State's Confirmed Coronavirus Cases Spike \\n: Coronavirus Live Updates\", 'url': 'https://www.npr.org/sections/coronavirus-live-updates/2020/04/27/845682973/tennessee-restaurants-reopen-as-state-sees-biggest-one-day-jump-in-covid-19-case', 'source': 'NPR', 'time': '10 hours ago', 'date': '2020-04-27 22:00:00', 'query': 'coronavirus', 'story_position': 2, 'domain': 'www.npr.org'}, {'title': 'Coronavirus updates: States relaxing lockdowns as U.S. nears 1 million cases', 'url': 'https://www.cbsnews.com/live-updates/coronavirus-update-lockdowns-million-cases-2020-04-27/', 'source': 'CBS News', 'time': '11 mins ago', 'date': '2020-04-27 22:00:00', 'query': 'coronavirus', 'story_position': 3, 'domain': 'www.cbsnews.com'}, {'title': 'Schumer demands GOP convene hearings on coronavirus testing, small business \\nprogram | TheHill', 'url': 'https://thehill.com/homenews/senate/494962-schumer-demands-gop-convene-hearings-on-coronavirus-testing-small-business', 'source': 'TheHill', 'time': '24 mins ago', 'date': '2020-04-27 22:00:00', 'query': 'coronavirus', 'story_position': 4, 'domain': 'thehill.com'}, {'title': 'Mets to cut pay for full-time employees', 'url': 'https://nypost.com/2020/04/27/mets-to-cut-pay-for-employees-amid-coronavirus/', 'source': 'New York Post', 'time': '38 mins ago', 'date': '2020-04-27 22:00:00', 'query': 'coronavirus', 'story_position': 5, 'domain': 'nypost.com'}, {'title': \"Jenna Jameson says coronavirus shutdown 'has been disastrous' to her 'keto \\nlifestyle'\", 'url': 'https://www.foxnews.com/entertainment/jenna-jameson-coronavirus-quarantine-keto-diet-disastrous', 'source': 'Fox News', 'time': '49 mins ago', 'date': '2020-04-27 22:00:00', 'query': 'coronavirus', 'story_position': 6, 'domain': 'www.foxnews.com'}, {'title': 'Mass. General Hospital released a coronavirus simulator. Here’s what it \\nshows for Massachusetts.', 'url': 'https://www.boston.com/news/coronavirus/2020/04/27/mass-general-coronavirus-simulator', 'source': 'Boston.com', 'time': '4 hours ago', 'date': '2020-04-27 22:00:00', 'query': 'coronavirus', 'story_position': 7, 'domain': 'www.boston.com'}, {'title': 'Researchers at Hartford HealthCare, MIT push CT’s coronavirus peak back, \\nsay deaths could triple by mid-June', 'url': 'https://www.wtnh.com/news/health/coronavirus/researchers-at-hartford-healthcare-mit-push-cts-coronavirus-peak-back-say-deaths-could-triple-by-mid-june/', 'source': 'WTNH.com', 'time': '4 hours ago', 'date': '2020-04-27 22:00:00', 'query': 'coronavirus', 'story_position': 8, 'domain': 'www.wtnh.com'}, {'title': 'Top Manhattan ER doc commits suicide, shaken by coronavirus onslaught', 'url': 'https://nypost.com/2020/04/27/manhattan-er-doc-lorna-breen-commits-suicide-shaken-by-coronavirus/', 'source': 'New York Post', 'time': '4 hours ago', 'date': '2020-04-27 22:00:00', 'query': 'coronavirus', 'story_position': 9, 'domain': 'nypost.com'}, {'title': 'As more than a dozen states begin to reopen their economies, experts advise \\nextra caution in these public spaces', 'url': 'https://www.marketwatch.com/story/coronavirus-survives-longer-airborne-and-travels-further-in-these-public-spaces-heres-where-to-be-extra-careful-2020-04-27', 'source': 'MarketWatch', 'time': '5 hours ago', 'date': '2020-04-27 22:00:00', 'query': 'coronavirus', 'story_position': 10, 'domain': 'www.marketwatch.com'}]\n",
      "[{'title': 'ReOpen NC leader says she tested positive for COVID-19', 'url': 'https://www.cbs17.com/community/health/coronavirus/reopen-nc-leader-says-she-tested-positive-for-covid-19/', 'source': 'CBS17.com', 'time': '9 hours ago', 'date': '2020-04-27 22:00:00', 'query': 'Covid-19', 'story_position': 1, 'domain': 'www.cbs17.com'}, {'title': 'Deaths spiked as Covid-19 spread in March and April, new analysis finds', 'url': 'https://www.cnn.com/2020/04/27/health/deaths-spike-covid-spread/index.html', 'source': 'CNN.com', 'time': '3 hours ago', 'date': '2020-04-27 22:00:00', 'query': 'Covid-19', 'story_position': 2, 'domain': 'www.cnn.com'}, {'title': 'NYC Emergency Room Doctor Dies from Suicide After Treating COVID-19 Patients', 'url': 'https://www.nbcnewyork.com/news/coronavirus/nyc-emergency-room-doctor-dies-from-suicide-after-treating-covid-19-patients/2391978/', 'source': 'NBC New York', 'time': '9 mins ago', 'date': '2020-04-27 22:00:00', 'query': 'Covid-19', 'story_position': 3, 'domain': 'www.nbcnewyork.com'}, {'title': 'Over 7100 people tested for COVID-19 over weekend', 'url': 'https://www.wbbjtv.com/2020/04/27/over-7100-people-tested-for-covid-19-over-weekend/', 'source': 'WBBJ-TV', 'time': '20 mins ago', 'date': '2020-04-27 22:00:00', 'query': 'Covid-19', 'story_position': 4, 'domain': 'www.wbbjtv.com'}, {'title': \"COVID-19 cases in Westchester on 'downturn,' county executive says; \\nMonday's town-by-town numbers\", 'url': 'https://www.lohud.com/story/news/coronavirus/2020/04/27/westchester-cases-covid-19-decline-curve-flattens-latimer/3036529001/', 'source': 'LoHud.com', 'time': '3 hours ago', 'date': '2020-04-27 22:00:00', 'query': 'Covid-19', 'story_position': 5, 'domain': 'www.lohud.com'}, {'title': '13 dead from COVID-19 at Catholic nursing home in Minneapolis, as deadly \\nclusters grow', 'url': 'https://www.startribune.com/13-dead-from-covid-19-at-catholic-nursing-home-in-minneapolis-as-deadly-clusters-grow/569988882/', 'source': 'Star Tribune', 'time': '4 hours ago', 'date': '2020-04-27 22:00:00', 'query': 'Covid-19', 'story_position': 6, 'domain': 'www.startribune.com'}, {'title': 'Daily coronavirus updates: COVID-19 deaths top 2,000 in Connecticut; Gov. \\nLamont says limited reopening plans', 'url': 'https://www.courant.com/coronavirus/hc-news-coronavirus-daily-updates-0427-20200427-vjmxkujidvfatfpfziwrogzaue-story.html', 'source': 'Hartford Courant', 'time': '4 hours ago', 'date': '2020-04-27 22:00:00', 'query': 'Covid-19', 'story_position': 7, 'domain': 'www.courant.com'}, {'title': 'New research model predicts second COVID-19 wave in Georgia', 'url': 'https://www.wsbtv.com/news/local/new-research-model-predicts-second-covid-19-wave-georgia/JCMHZYN4OJAL7DI2H6E6PG37CQ/', 'source': 'WSB Tv', 'time': '4 hours ago', 'date': '2020-04-27 22:00:00', 'query': 'Covid-19', 'story_position': 8, 'domain': 'www.wsbtv.com'}, {'title': \"Did Nobel Laureate Tasuku Honjo Say COVID-19 Was 'Man-Made'?\", 'url': 'https://www.snopes.com/fact-check/nobel-laureate-tasuku-honjo-covid/', 'source': 'Snopes.com', 'time': 'Fact check article\\xa0·\\xa08 hours ago', 'date': '2020-04-27 22:00:00', 'query': 'Covid-19', 'story_position': 9, 'domain': 'www.snopes.com'}, {'title': \"Let's hear scientists with different Covid-19 views, not attack them\", 'url': 'https://www.statnews.com/2020/04/27/hear-scientists-different-views-covid-19-dont-attack-them/', 'source': 'Stat', 'time': '8 hours ago', 'date': '2020-04-27 22:00:00', 'query': 'Covid-19', 'story_position': 10, 'domain': 'www.statnews.com'}]\n",
      "[{'title': 'CDC confirms six coronavirus symptoms showing up in patients over and over', 'url': 'https://www.washingtonpost.com/health/2020/04/27/six-new-coronavirus-symptoms/', 'source': 'Washington Post', 'time': '15 hours ago', 'date': '2020-04-28 10:00:00', 'query': 'coronavirus symptoms', 'story_position': 1, 'domain': 'www.washingtonpost.com'}, {'title': 'CDC Adds New Symptoms to Coronavirus List', 'url': 'https://www.nytimes.com/2020/04/27/health/coronavirus-symptoms-cdc.html', 'source': 'The New York Times', 'time': '23 hours ago', 'date': '2020-04-28 10:00:00', 'query': 'coronavirus symptoms', 'story_position': 2, 'domain': 'www.nytimes.com'}, {'title': 'Watch out for these 6 new coronavirus symptoms', 'url': 'https://www.marketwatch.com/story/watch-out-for-these-six-new-coronavirus-symptoms-2020-04-27', 'source': 'MarketWatch', 'time': '1 hour ago', 'date': '2020-04-28 10:00:00', 'query': 'coronavirus symptoms', 'story_position': 3, 'domain': 'www.marketwatch.com'}, {'title': 'Should you be checking your own oxygen levels if you have coronavirus \\nsymptoms?', 'url': 'https://www.theguardian.com/commentisfree/2020/apr/28/oxygen-levels-coronavirus-symptoms-oximeters-gp', 'source': 'The Guardian', 'time': '2 hours ago', 'date': '2020-04-28 10:00:00', 'query': 'coronavirus symptoms', 'story_position': 4, 'domain': 'www.theguardian.com'}, {'title': \"'Silent Hypoxics': Docs warn of coronavirus link to mysterious low oxygen \\nsymptoms\", 'url': 'https://abcnews.go.com/Health/silent-hypoxics-docs-warn-coronavirus-link-mysterious-low/story?id=70366959', 'source': 'ABC News', 'time': '6 hours ago', 'date': '2020-04-28 10:00:00', 'query': 'coronavirus symptoms', 'story_position': 5, 'domain': 'abcnews.go.com'}, {'title': 'CDC adds to list of coronavirus infection symptoms', 'url': 'https://www.latimes.com/science/story/2020-04-27/coronavirus-cdc-updates-list-of-covid-19-symptoms', 'source': 'Los Angeles Times', 'time': '13 hours ago', 'date': '2020-04-28 10:00:00', 'query': 'coronavirus symptoms', 'story_position': 6, 'domain': 'www.latimes.com'}, {'title': 'CDC confirms six new coronavirus symptoms that are showing up in patients \\nover and over', 'url': 'https://www.seattletimes.com/nation-world/cdc-confirms-six-new-coronavirus-symptoms-that-are-showing-up-in-patients-over-and-over/', 'source': 'The Seattle Times', 'time': '20 hours ago', 'date': '2020-04-28 10:00:00', 'query': 'coronavirus symptoms', 'story_position': 7, 'domain': 'www.seattletimes.com'}, {'title': 'Spots On Toes And Rashes Join Weird New Symptoms Of Coronavirus', 'url': 'https://www.forbes.com/sites/judystone/2020/04/27/spots-on-toes-and-rashes-join-weird-new-symptoms-of-coronavirus/', 'source': 'Forbes', 'time': '22 hours ago', 'date': '2020-04-28 10:00:00', 'query': 'coronavirus symptoms', 'story_position': 8, 'domain': 'www.forbes.com'}, {'title': 'CDC Adds Six Coronavirus Symptoms to Its List As Doctors Encounter New \\nConditions in COVID-19 Patients', 'url': 'https://weather.com/health/coronavirus/news/2020-04-27-cdc-new-coronavirus-symptoms-covid-19-conditions', 'source': 'The Weather Channel', 'time': '22 hours ago', 'date': '2020-04-28 10:00:00', 'query': 'coronavirus symptoms', 'story_position': 9, 'domain': 'weather.com'}, {'title': \"Doctors find more cases of 'COVID toes' in dermatological registry. Here's \\nwhat they learned.\", 'url': 'https://www.usatoday.com/story/news/health/2020/04/27/coronavirus-doctors-learn-more-new-covid-19-symptom-covid-toes/3031743001/', 'source': 'USA Today', 'time': '23 hours ago', 'date': '2020-04-28 10:00:00', 'query': 'coronavirus symptoms', 'story_position': 10, 'domain': 'www.usatoday.com'}]\n",
      "[{'title': 'Trump offers new testing proposal and then shifts focus to himself', 'url': 'https://www.cnn.com/2020/04/28/politics/donald-trump-testing-coronavirus-news-conference/index.html', 'source': 'CNN.com', 'time': '2 hours ago', 'date': '2020-04-28 10:00:00', 'query': 'coronavirus test', 'story_position': 1, 'domain': 'www.cnn.com'}, {'title': 'Pug in North Carolina tests positive for coronavirus, may be first for dog \\nin U.S.', 'url': 'https://www.nbcnews.com/news/animal-news/pug-north-carolina-tests-positive-coronavirus-may-be-first-dog-n1194096', 'source': 'NBC News', 'time': '2 hours ago', 'date': '2020-04-28 10:00:00', 'query': 'coronavirus test', 'story_position': 2, 'domain': 'www.nbcnews.com'}, {'title': 'Coronavirus pandemic in the US: Live updates', 'url': 'https://www.cnn.com/us/live-news/us-coronavirus-update-04-28-20/index.html', 'source': 'CNN.com', 'time': '4 mins ago', 'date': '2020-04-28 10:00:00', 'query': 'coronavirus test', 'story_position': 3, 'domain': 'www.cnn.com'}]\n",
      "[{'title': 'Coronavirus pandemic in the US: Live updates', 'url': 'https://www.cnn.com/us/live-news/us-coronavirus-update-04-28-20/index.html', 'source': 'CNN.com', 'time': '17 mins ago', 'date': '2020-04-28 10:00:00', 'query': 'coronavirus', 'story_position': 1, 'domain': 'www.cnn.com'}, {'title': 'Coronavirus: Top NYC doctor takes her own life', 'url': 'https://www.bbc.com/news/world-us-canada-52451094', 'source': 'BBC.com', 'time': '2 days ago', 'date': '2020-04-28 10:00:00', 'query': 'coronavirus', 'story_position': 2, 'domain': 'www.bbc.com'}, {'title': \"California man who claimed coronavirus is government conspiracy has guns \\ntaken after 'threatening' social m...\", 'url': 'https://www.foxnews.com/us/california-man-coronavirus-government-conspiracy-guns-taken-away-san-diego', 'source': 'Fox News', 'time': '23 mins ago', 'date': '2020-04-28 10:00:00', 'query': 'coronavirus', 'story_position': 3, 'domain': 'www.foxnews.com'}, {'title': 'Coronavirus updates: States ease COVID-19 restrictions as testing ramps up', 'url': 'https://www.cbsnews.com/live-updates/coronavirus-update-lockdowns-million-cases-2020-04-28/', 'source': 'CBS News', 'time': '25 mins ago', 'date': '2020-04-28 10:00:00', 'query': 'coronavirus', 'story_position': 4, 'domain': 'www.cbsnews.com'}, {'title': 'Super Bowl champ Laurent Duvernay-Tardif battling coronavirus as a doctor', 'url': 'https://nypost.com/2020/04/28/nfler-laurent-duvernay-tardif-battling-coronavirus-as-a-doctor/', 'source': 'New York Post', 'time': '34 mins ago', 'date': '2020-04-28 10:00:00', 'query': 'coronavirus', 'story_position': 5, 'domain': 'nypost.com'}, {'title': 'US home price growth accelerated ahead of the coronavirus pandemic', 'url': 'https://finance.yahoo.com/news/sp-case-shiller-february-2020-us-home-price-index-130126872.html', 'source': 'Yahoo Finance', 'time': '1 hour ago', 'date': '2020-04-28 10:00:00', 'query': 'coronavirus', 'story_position': 6, 'domain': 'finance.yahoo.com'}, {'title': 'Reopening states too early will bring deadlier outcomes, coronavirus \\nprojection models show', 'url': 'https://www.cnn.com/2020/04/28/health/us-coronavirus-tuesday/index.html', 'source': 'CNN.com', 'time': '1 hour ago', 'date': '2020-04-28 10:00:00', 'query': 'coronavirus', 'story_position': 7, 'domain': 'www.cnn.com'}, {'title': 'Pug in North Carolina tests positive for coronavirus, may be first for dog \\nin U.S.', 'url': 'https://www.nbcnews.com/news/animal-news/pug-north-carolina-tests-positive-coronavirus-may-be-first-dog-n1194096', 'source': 'NBC News', 'time': '2 hours ago', 'date': '2020-04-28 10:00:00', 'query': 'coronavirus', 'story_position': 8, 'domain': 'www.nbcnews.com'}, {'title': \"Swedish official Anders Tegnell says 'herd immunity' in Sweden might be a \\nfew weeks away\", 'url': 'https://www.usatoday.com/story/news/world/2020/04/28/coronavirus-covid-19-sweden-anders-tegnell-herd-immunity/3031536001/', 'source': 'USA Today', 'time': '3 hours ago', 'date': '2020-04-28 10:00:00', 'query': 'coronavirus', 'story_position': 9, 'domain': 'www.usatoday.com'}, {'title': 'Trump faces the risk of a coronavirus cliff', 'url': 'https://www.politico.com/news/2020/04/28/trump-reopening-coronavirus-213535', 'source': 'Politico', 'time': '5 hours ago', 'date': '2020-04-28 10:00:00', 'query': 'coronavirus', 'story_position': 10, 'domain': 'www.politico.com'}]\n",
      "[{'title': 'ReOpen NC leader says she tested positive for COVID-19', 'url': 'https://www.cbs17.com/community/health/coronavirus/reopen-nc-leader-says-she-tested-positive-for-covid-19/', 'source': 'CBS17.com', 'time': '21 hours ago', 'date': '2020-04-28 10:00:00', 'query': 'Covid-19', 'story_position': 1, 'domain': 'www.cbs17.com'}, {'title': 'COVID-19 survivors answer your questions: How long to feel normal again?', 'url': 'https://www.foxnews.com/media/covid-19-survivors-answer-your-questions-about-the-virus', 'source': 'Fox News', 'time': '1 hour ago', 'date': '2020-04-28 10:00:00', 'query': 'Covid-19', 'story_position': 2, 'domain': 'www.foxnews.com'}, {'title': 'COVID-19 doctor charged in multimillion-dollar fraud case', 'url': 'https://www.detroitnews.com/story/news/local/detroit-city/2020/04/28/covid-19-doctor-charged-multimillion-dollar-health-care-fraud-case/3038526001/', 'source': 'Detroit News', 'time': '43 mins ago', 'date': '2020-04-28 10:00:00', 'query': 'Covid-19', 'story_position': 3, 'domain': 'www.detroitnews.com'}, {'title': 'Changing SaaS startup benchmarks in the COVID-19 era', 'url': 'https://techcrunch.com/2020/04/28/changing-saas-startup-benchmarks-in-the-covid-19-era/', 'source': 'TechCrunch', 'time': '51 mins ago', 'date': '2020-04-28 10:00:00', 'query': 'Covid-19', 'story_position': 4, 'domain': 'techcrunch.com'}, {'title': 'More than 800 new COVID-19 cases identified in Virginia; hospitalizations \\nclimb above 1500', 'url': 'https://www.insidenova.com/news/special/coronavirus/more-than-800-new-covid-19-cases-identified-in-virginia-hospitalizations-climb-above-1-500/article_4f65e192-8952-11ea-b5ad-937acb468552.html', 'source': 'InsideNoVa.com', 'time': '1 hour ago', 'date': '2020-04-28 10:00:00', 'query': 'Covid-19', 'story_position': 5, 'domain': 'www.insidenova.com'}, {'title': 'Random, voluntary testing for COVID-19 antibodies starts today in metro \\nneighborhoods', 'url': 'https://www.wsbtv.com/news/local/health-officials-randomly-testing-covid-19-antibodies-metro-neighborhoods/NRPF75H2XVHFVLGE42LII6GUQU/', 'source': 'WSB Tv', 'time': '3 hours ago', 'date': '2020-04-28 10:00:00', 'query': 'Covid-19', 'story_position': 6, 'domain': 'www.wsbtv.com'}, {'title': 'Coronavirus: Monkeys given Oxford vaccine did not catch COVID-19 - Business \\nInsider', 'url': 'https://www.businessinsider.com/monkeys-given-new-oxford-vaccine-coronavirus-free-strong-exposure-encouraging-2020-4', 'source': 'Business Insider', 'time': '4 hours ago', 'date': '2020-04-28 10:00:00', 'query': 'Covid-19', 'story_position': 7, 'domain': 'www.businessinsider.com'}, {'title': \"Workers face 'uphill battle' proving firms liable if they catch COVID-19 as \\neconomy reopens\", 'url': 'https://www.usatoday.com/story/money/2020/04/28/coronavirus-can-you-sue-if-you-get-covid-19-work/3035422001/', 'source': 'USA Today', 'time': '5 hours ago', 'date': '2020-04-28 10:00:00', 'query': 'Covid-19', 'story_position': 8, 'domain': 'www.usatoday.com'}, {'title': 'Organizer of North Carolina group protesting quarantine rules sidelined \\nwith coronavirus', 'url': 'https://nypost.com/2020/04/28/leader-of-north-carolina-anti-lockdown-protest-gets-covid-19/', 'source': 'New York Post', 'time': '9 hours ago', 'date': '2020-04-28 10:00:00', 'query': 'Covid-19', 'story_position': 9, 'domain': 'nypost.com'}, {'title': \"Ask Amy: Neighbor's gathering creates covid-19 risk\", 'url': 'https://www.washingtonpost.com/lifestyle/advice/ask-amy-neighbors-gathering-creates-covid-19-risk/2020/04/26/61064c1c-805a-11ea-a3ee-13e1ae0a3571_story.html', 'source': 'Washington Post', 'time': '10 hours ago', 'date': '2020-04-28 10:00:00', 'query': 'Covid-19', 'story_position': 10, 'domain': 'www.washingtonpost.com'}]\n",
      "[{'title': \"US Health Officials Now Say There Are 9 Main COVID-19 Symptoms. Here's What \\nThey Are.\", 'url': 'https://www.buzzfeednews.com/article/zahrahirji/coronavirus-symptoms-update-cdc', 'source': 'BuzzFeed News', 'time': '9 hours ago', 'date': '2020-04-28 22:00:00', 'query': 'coronavirus symptoms', 'story_position': 1, 'domain': 'www.buzzfeednews.com'}, {'title': 'CDC confirms six coronavirus symptoms showing up in patients over and over', 'url': 'https://www.washingtonpost.com/health/2020/04/27/six-new-coronavirus-symptoms/', 'source': 'Washington Post', 'time': '1 day ago', 'date': '2020-04-28 22:00:00', 'query': 'coronavirus symptoms', 'story_position': 2, 'domain': 'www.washingtonpost.com'}, {'title': 'CDC adds new coronavirus symptoms as Cleveland hospital sees other viruses \\nplummet', 'url': 'https://fox8.com/news/coronavirus/cdc-adds-new-coronavirus-symptoms-as-cleveland-hospital-sees-other-viruses-plummet/', 'source': 'Fox 8', 'time': '1 hour ago', 'date': '2020-04-28 22:00:00', 'query': 'coronavirus symptoms', 'story_position': 3, 'domain': 'fox8.com'}, {'title': 'CDC adds new coronavirus symptoms', 'url': 'https://fox8.com/video/cdc-adds-new-coronavirus-symptoms/5434141/', 'source': 'Fox 8', 'time': '1 hour ago', 'date': '2020-04-28 22:00:00', 'query': 'coronavirus symptoms', 'story_position': 4, 'domain': 'fox8.com'}, {'title': 'Answering Your Coronavirus Questions: New Symptoms, Economy And Virtual \\nCelebrations', 'url': 'https://www.npr.org/2020/04/28/847585398/answering-your-coronavirus-questions-new-symptoms-economy-and-virtual-celebratio', 'source': 'NPR', 'time': '1 hour ago', 'date': '2020-04-28 22:00:00', 'query': 'coronavirus symptoms', 'story_position': 5, 'domain': 'www.npr.org'}, {'title': '30-Year-Old Teacher Dies of Coronavirus After Her Symptoms Were Dismissed \\nas a Panic Attack', 'url': 'https://people.com/health/teacher-dies-coronavirus-after-her-symptoms-dismissed-panic-attack/', 'source': 'People.com', 'time': '6 hours ago', 'date': '2020-04-28 22:00:00', 'query': 'coronavirus symptoms', 'story_position': 6, 'domain': 'people.com'}, {'title': 'Did you already have coronavirus in January or February?', 'url': 'https://www.livescience.com/did-you-have-covid-19-in-january.html', 'source': 'Live Science', 'time': '7 hours ago', 'date': '2020-04-28 22:00:00', 'query': 'coronavirus symptoms', 'story_position': 7, 'domain': 'www.livescience.com'}, {'title': \"Coronavirus: 'My son had symptoms of rare syndrome'\", 'url': 'https://www.bbc.com/news/health-52447387', 'source': 'BBC', 'time': '12 hours ago', 'date': '2020-04-28 22:00:00', 'query': 'coronavirus symptoms', 'story_position': 8, 'domain': 'www.bbc.com'}, {'title': 'Watch out for these 6 new coronavirus symptoms', 'url': 'https://www.marketwatch.com/story/watch-out-for-these-six-new-coronavirus-symptoms-2020-04-27', 'source': 'MarketWatch', 'time': '13 hours ago', 'date': '2020-04-28 22:00:00', 'query': 'coronavirus symptoms', 'story_position': 9, 'domain': 'www.marketwatch.com'}, {'title': \"'Silent Hypoxics': Docs warn of coronavirus link to mysterious low oxygen \\nsymptoms\", 'url': 'https://abcnews.go.com/Health/silent-hypoxics-docs-warn-coronavirus-link-mysterious-low/story?id=70366959', 'source': 'ABC News', 'time': '18 hours ago', 'date': '2020-04-28 22:00:00', 'query': 'coronavirus symptoms', 'story_position': 10, 'domain': 'abcnews.go.com'}]\n",
      "[{'title': 'US coronavirus cases surpass 1 million and the death toll is greater than \\nUS losses in Vietnam War', 'url': 'https://www.cnn.com/2020/04/28/health/us-coronavirus-tuesday/index.html', 'source': 'CNN.com', 'time': '2 hours ago', 'date': '2020-04-28 22:00:00', 'query': 'coronavirus test', 'story_position': 1, 'domain': 'www.cnn.com'}, {'title': 'Coronavirus updates: COVID-19 cases in U.S. top 1 million', 'url': 'https://www.cbsnews.com/live-updates/coronavirus-latest-updates-2020-04-28/', 'source': 'CBS News', 'time': '20 mins ago', 'date': '2020-04-28 22:00:00', 'query': 'coronavirus test', 'story_position': 2, 'domain': 'www.cbsnews.com'}, {'title': 'Big commercial labs given priority for coronavirus testing equipment by feds', 'url': 'https://www.cnn.com/2020/04/28/politics/testing-coronavirus-hospitals-commercial-labs-invs/index.html', 'source': 'CNN.com', 'time': '14 mins ago', 'date': '2020-04-28 22:00:00', 'query': 'coronavirus test', 'story_position': 3, 'domain': 'www.cnn.com'}]\n",
      "[{'title': 'Coronavirus pandemic: Updates from around the world', 'url': 'https://www.cnn.com/world/live-news/coronavirus-pandemic-04-28-20-intl/index.html', 'source': 'CNN.com', 'time': '1 hour ago', 'date': '2020-04-28 22:00:00', 'query': 'coronavirus', 'story_position': 1, 'domain': 'www.cnn.com'}, {'title': 'Pence Comments On Not Wearing Protective Masks : Coronavirus Live Updates', 'url': 'https://www.npr.org/sections/coronavirus-live-updates/2020/04/28/847570879/pence-responds-to-critics-after-not-wearing-face-mask-at-mayo-clinic', 'source': 'NPR', 'time': '3 hours ago', 'date': '2020-04-28 22:00:00', 'query': 'coronavirus', 'story_position': 2, 'domain': 'www.npr.org'}, {'title': \"Chris Hayes Rips Fox News Primetime 'Coronavirus Trutherism'\", 'url': 'https://www.mediaite.com/tv/chris-hayes-trashes-fox-news-over-coronavirus-trutherism-tucker-carlson-broadcasting-in-safe-isolation-is-telling-you-its-safe-to-go-out/', 'source': 'Mediaite.com', 'time': '39 mins ago', 'date': '2020-04-28 22:00:00', 'query': 'coronavirus', 'story_position': 3, 'domain': 'www.mediaite.com'}, {'title': 'How does India, a country of 1.3 billion people, have around 1,000 \\ncoronavirus deaths?', 'url': 'https://www.cnn.com/2020/04/28/india/india-coronavirus-outbreak-explained-intl-hnk/index.html', 'source': 'CNN.com', 'time': '54 mins ago', 'date': '2020-04-28 22:00:00', 'query': 'coronavirus', 'story_position': 4, 'domain': 'www.cnn.com'}, {'title': '86 ‘discharged’ RI coronavirus patients died at the hospital', 'url': 'https://www.wpri.com/health/coronavirus/86-discharged-ri-coronavirus-patients-died-at-the-hospital/', 'source': 'WPRI.com', 'time': '57 mins ago', 'date': '2020-04-28 22:00:00', 'query': 'coronavirus', 'story_position': 5, 'domain': 'www.wpri.com'}, {'title': 'Biden wins Ohio primary delayed by coronavirus pandemic', 'url': 'https://www.foxnews.com/politics/biden-wins-ohio-primary-delayed-by-coronavirus-pandemic', 'source': 'Fox News', 'time': '1 hour ago', 'date': '2020-04-28 22:00:00', 'query': 'coronavirus', 'story_position': 6, 'domain': 'www.foxnews.com'}, {'title': 'Beloved Brooklyn teacher, 30, dies of coronavirus after she was twice \\ndenied a COVID-19 test', 'url': 'https://abcnews.go.com/Health/beloved-brooklyn-teacher-30-dies-coronavirus-denied-covid/story?id=70376445', 'source': 'ABC News', 'time': '1 hour ago', 'date': '2020-04-28 22:00:00', 'query': 'coronavirus', 'story_position': 7, 'domain': 'abcnews.go.com'}, {'title': 'Coronavirus updates: COVID-19 cases in U.S. top 1 million', 'url': 'https://www.cbsnews.com/live-updates/coronavirus-latest-updates-2020-04-28/', 'source': 'CBS News', 'time': '1 hour ago', 'date': '2020-04-28 22:00:00', 'query': 'coronavirus', 'story_position': 8, 'domain': 'www.cbsnews.com'}, {'title': \"Democrats dismiss McConnell's 'sad' new coronavirus offer\", 'url': 'https://www.politico.com/news/2020/04/28/democrats-mcconnell-coronavirus-214365', 'source': 'Politico', 'time': '4 hours ago', 'date': '2020-04-28 22:00:00', 'query': 'coronavirus', 'story_position': 9, 'domain': 'www.politico.com'}, {'title': 'Trump Decides Now Would Be a Great Time to Cut Coronavirus Research Funding', 'url': 'https://www.vanityfair.com/news/2020/04/trump-coronavirus-funding-cuts', 'source': 'Vanity Fair', 'time': '8 hours ago', 'date': '2020-04-28 22:00:00', 'query': 'coronavirus', 'story_position': 10, 'domain': 'www.vanityfair.com'}]\n",
      "[{'title': 'Antibody tests support what’s been obvious: Covid-19 is much more lethal \\nthan the flu', 'url': 'https://www.washingtonpost.com/health/antibody-tests-support-whats-been-obvious-covid-19-is-much-more-lethal-than-flu/2020/04/28/2fc215d8-87f7-11ea-ac8a-fe9b8088e101_story.html', 'source': 'Washington Post', 'time': '7 hours ago', 'date': '2020-04-28 22:00:00', 'query': 'Covid-19', 'story_position': 1, 'domain': 'www.washingtonpost.com'}, {'title': 'Two men in Georgia drank disinfectants in efforts to prevent COVID-19, \\nofficials say | TheHill', 'url': 'https://thehill.com/policy/healthcare/495089-two-men-in-georgia-drank-disinfectants-in-efforts-to-prevent-covid-19', 'source': 'TheHill', 'time': '6 hours ago', 'date': '2020-04-28 22:00:00', 'query': 'Covid-19', 'story_position': 2, 'domain': 'thehill.com'}, {'title': 'COVID-19: Will some Washington counties reopen and others remain closed?', 'url': 'http://komonews.com/news/coronavirus/covid-19-will-some-washington-counties-reopen-and-others-remain-closed', 'source': 'KOMO', 'time': '3 mins ago', 'date': '2020-04-28 22:00:00', 'query': 'Covid-19', 'story_position': 3, 'domain': 'komonews.com'}, {'title': \"Coronavirus Update: 82 New COVID-19 Cases Bring New Hampshire's Total Over \\n2000\", 'url': 'https://www.nhpr.org/post/coronavirus-update-82-new-covid-19-cases-bring-new-hampshires-total-over-2000', 'source': 'Nhpr', 'time': '3 hours ago', 'date': '2020-04-28 22:00:00', 'query': 'Covid-19', 'story_position': 4, 'domain': 'www.nhpr.org'}, {'title': 'USS Kidd Arrives in San Diego to Treat COVID-19 Outbreak; First Cases \\nEmerged More than A Month After Hawaii Port Visit', 'url': 'https://news.usni.org/2020/04/28/uss-kidd-arrives-in-san-diego-to-treat-covid-19-outbreak-first-cases-emerged-more-than-a-month-after-hawaii-port-visit', 'source': 'USNI News - US Naval Institute', 'time': '4 hours ago', 'date': '2020-04-28 22:00:00', 'query': 'Covid-19', 'story_position': 5, 'domain': 'news.usni.org'}, {'title': 'COVID -19 Hospitalizations in Connecticut Decline Again', 'url': 'https://www.nbcconnecticut.com/news/coronavirus/governor-to-give-covid-19-briefing-at-4-p-m/2262482/', 'source': 'NBC Connecticut', 'time': '5 hours ago', 'date': '2020-04-28 22:00:00', 'query': 'Covid-19', 'story_position': 6, 'domain': 'www.nbcconnecticut.com'}, {'title': 'Math Is Hard: Social-Science Lessons from COVID-19', 'url': 'https://www.nationalreview.com/2020/04/math-is-hard-social-science-lessons-from-covid-19/', 'source': 'National Review', 'time': '5 hours ago', 'date': '2020-04-28 22:00:00', 'query': 'Covid-19', 'story_position': 7, 'domain': 'www.nationalreview.com'}, {'title': 'An ER doctor who continued to treat patients after she recovered from \\nCovid-19 has died by suicide', 'url': 'https://www.cnn.com/2020/04/28/us/er-doctor-coronavirus-help-death-by-suicide-trnd/index.html', 'source': 'CNN.com', 'time': '7 hours ago', 'date': '2020-04-28 22:00:00', 'query': 'Covid-19', 'story_position': 8, 'domain': 'www.cnn.com'}, {'title': 'Amid Ongoing COVID-19 Pandemic, Governor Cuomo Outlines Additional \\nGuidelines for Phased Plan to Re-open New ...', 'url': 'https://www.governor.ny.gov/news/amid-ongoing-covid-19-pandemic-governor-cuomo-outlines-additional-guidelines-phased-plan-re', 'source': 'Governor Cuomo - NY.gov', 'time': '7 hours ago', 'date': '2020-04-28 22:00:00', 'query': 'Covid-19', 'story_position': 9, 'domain': 'www.governor.ny.gov'}, {'title': 'COVID-19: Plan For Schools, Summer Sessions Will Be Made By End Of Week, \\nCuomo Says', 'url': 'https://dailyvoice.com/new-york/nassau/schools/covid-19-plan-for-schools-summer-sessions-will-be-made-by-end-of-week-cuomo-says/787248/', 'source': 'Daily Voice', 'time': '7 hours ago', 'date': '2020-04-28 22:00:00', 'query': 'Covid-19', 'story_position': 10, 'domain': 'dailyvoice.com'}]\n",
      "[{'title': 'CDC confirms six coronavirus symptoms showing up in patients over and over', 'url': 'https://www.washingtonpost.com/health/2020/04/27/six-new-coronavirus-symptoms/', 'source': 'Washington Post', 'time': '1 day ago', 'date': '2020-04-29 10:00:00', 'query': 'coronavirus symptoms', 'story_position': 1, 'domain': 'www.washingtonpost.com'}, {'title': \"US Health Officials Now Say There Are 9 Main COVID-19 Symptoms. Here's What \\nThey Are.\", 'url': 'https://www.buzzfeednews.com/article/zahrahirji/coronavirus-symptoms-update-cdc', 'source': 'BuzzFeed News', 'time': '21 hours ago', 'date': '2020-04-29 10:00:00', 'query': 'coronavirus symptoms', 'story_position': 2, 'domain': 'www.buzzfeednews.com'}, {'title': 'Coronavirus testing in LA expanded to include construction workers without \\nsymptoms', 'url': 'https://abc7.com/testing-for-the-coronavirus-in-los-angeles-county-will-be-expanded-to-include-construction-workers-even-if-they-are-not-showing-symptoms-mayor-eric-garcetti-said./6137046/', 'source': 'ABC7.com', 'time': '2 hours ago', 'date': '2020-04-29 10:00:00', 'query': 'coronavirus symptoms', 'story_position': 3, 'domain': 'abc7.com'}]\n",
      "[{'title': 'US coronavirus cases surpass 1 million and the death toll is greater than \\nUS losses in Vietnam War', 'url': 'https://www.cnn.com/2020/04/28/health/us-coronavirus-tuesday/index.html', 'source': 'CNN.com', 'time': '12 hours ago', 'date': '2020-04-29 10:00:00', 'query': 'coronavirus test', 'story_position': 1, 'domain': 'www.cnn.com'}, {'title': 'Coronavirus updates: Facebook to hold e-graduation for Class of 2020 - \\nBusiness Insider', 'url': 'https://www.businessinsider.com/coronavirus-live-updates-latest-news', 'source': 'Business Insider', 'time': '3 hours ago', 'date': '2020-04-29 10:00:00', 'query': 'coronavirus test', 'story_position': 2, 'domain': 'www.businessinsider.com'}, {'title': 'NC Pug First Known Dog To Test Positive For Coronavirus In US', 'url': 'https://patch.com/north-carolina/charlotte/nc-pug-first-known-dog-test-positive-coronavirus-us', 'source': 'Patch', 'time': '33 mins ago', 'date': '2020-04-29 10:00:00', 'query': 'coronavirus test', 'story_position': 3, 'domain': 'patch.com'}]\n",
      "[{'title': 'Coronavirus pandemic in the US: Live updates', 'url': 'https://www.cnn.com/us/live-news/us-coronavirus-update-04-29-20/index.html', 'source': 'CNN.com', 'time': '8 mins ago', 'date': '2020-04-29 10:00:00', 'query': 'coronavirus', 'story_position': 1, 'domain': 'www.cnn.com'}, {'title': 'Track your coronavirus stimulus check status through the IRS Get My Payment \\napp', 'url': 'https://www.cnet.com/personal-finance/track-your-coronavirus-stimulus-check-status-through-the-irs-get-my-payment-app/', 'source': 'Cnet', 'time': '9 hours ago', 'date': '2020-04-29 10:00:00', 'query': 'coronavirus', 'story_position': 2, 'domain': 'www.cnet.com'}, {'title': 'Goldfeder and Bedzow: Coronavirus nursing home crisis – 4 things they need \\nright now', 'url': 'https://www.foxnews.com/opinion/coronavirus-nursing-home-crisis-4-things-need-now-mark-goldfeder-ira-bedzow', 'source': 'Fox News', 'time': '14 mins ago', 'date': '2020-04-29 10:00:00', 'query': 'coronavirus', 'story_position': 3, 'domain': 'www.foxnews.com'}, {'title': 'White House asks agencies to find out if China, WHO hid coronavirus intel', 'url': 'https://nypost.com/2020/04/29/white-house-wants-to-know-if-china-who-hid-coronavirus-intel/', 'source': 'New York Post', 'time': '37 mins ago', 'date': '2020-04-29 10:00:00', 'query': 'coronavirus', 'story_position': 4, 'domain': 'nypost.com'}, {'title': 'Navy launching broader inquiry into coronavirus stricken aircraft carrier, \\neffectively delaying Navy recommendation of reinstating captain', 'url': 'https://www.cnn.com/2020/04/29/politics/navy-investigation-uss-roosevelt/index.html', 'source': 'CNN.com', 'time': '47 mins ago', 'date': '2020-04-29 10:00:00', 'query': 'coronavirus', 'story_position': 5, 'domain': 'www.cnn.com'}, {'title': 'Coronavirus treatment: Gilead says positive data on remdesivir coming - \\nBusiness Insider', 'url': 'https://www.businessinsider.com/coronavirus-treatment-gilead-says-positive-data-remdesivir-from-niaid-study-2020-4', 'source': 'Business Insider', 'time': '1 hour ago', 'date': '2020-04-29 10:00:00', 'query': 'coronavirus', 'story_position': 6, 'domain': 'www.businessinsider.com'}, {'title': 'Could The Coronavirus And Economic Crash Make Republicans Abandon Trump?', 'url': 'https://fivethirtyeight.com/features/could-the-coronavirus-and-economic-crash-make-republicans-abandon-trump/', 'source': 'FiveThirtyEight', 'time': '3 hours ago', 'date': '2020-04-29 10:00:00', 'query': 'coronavirus', 'story_position': 7, 'domain': 'fivethirtyeight.com'}, {'title': 'Both New Zealand and Australia Contained Coronavirus, but One Is Set to Pay \\na Heavier Price', 'url': 'https://www.wsj.com/articles/both-new-zealand-and-australia-contained-coronavirus-but-one-is-set-to-pay-a-heavier-price-11588158002', 'source': 'Wall Street Journal', 'time': '3 hours ago', 'date': '2020-04-29 10:00:00', 'query': 'coronavirus', 'story_position': 8, 'domain': 'www.wsj.com'}, {'title': 'Trump’s next coronavirus pivot: Celebrate America’s grand reopening', 'url': 'https://www.politico.com/news/2020/04/29/trump-coronavirus-business-219443', 'source': 'Politico', 'time': '5 hours ago', 'date': '2020-04-29 10:00:00', 'query': 'coronavirus', 'story_position': 9, 'domain': 'www.politico.com'}, {'title': 'U.S. Coronavirus Death Toll Is Far Higher Than Reported, C.D.C. Data \\nSuggests', 'url': 'https://www.nytimes.com/interactive/2020/04/28/us/coronavirus-death-toll-total.html', 'source': 'The New York Times', 'time': '11 hours ago', 'date': '2020-04-29 10:00:00', 'query': 'coronavirus', 'story_position': 10, 'domain': 'www.nytimes.com'}]\n",
      "[{'title': 'Rare inflammatory syndrome seen in US child with Covid-19', 'url': 'https://www.cnn.com/2020/04/29/health/rare-inflammatory-syndrome-us-covid-19/index.html', 'source': 'CNN.com', 'time': '8 hours ago', 'date': '2020-04-29 10:00:00', 'query': 'Covid-19', 'story_position': 1, 'domain': 'www.cnn.com'}, {'title': 'Gilead: Critical study of Covid-19 drug shows patients respond to treatment', 'url': 'https://www.statnews.com/2020/04/29/gilead-says-critical-study-of-covid-19-drug-shows-patients-are-responding-to-treatment/', 'source': 'Stat', 'time': '57 mins ago', 'date': '2020-04-29 10:00:00', 'query': 'Covid-19', 'story_position': 2, 'domain': 'www.statnews.com'}, {'title': \"12-year-old speaks out after beating COVID-19: 'I died for two minutes'\", 'url': 'https://abcnews.go.com/GMA/Wellness/12-year-speaks-beating-covid-19-wanted-stop/story?id=70402061', 'source': 'ABC News', 'time': '4 mins ago', 'date': '2020-04-29 10:00:00', 'query': 'Covid-19', 'story_position': 3, 'domain': 'abcnews.go.com'}, {'title': 'Gilead Science reports positive data in trial of remdesivir as treatment \\nfor COVID-19', 'url': 'https://www.marketwatch.com/story/gilead-science-reports-positive-data-in-trial-of-remdesivir-as-treatment-for-covid-19-2020-04-29', 'source': 'MarketWatch', 'time': '7 mins ago', 'date': '2020-04-29 10:00:00', 'query': 'Covid-19', 'story_position': 4, 'domain': 'www.marketwatch.com'}, {'title': 'Coronavirus pandemic in the US: Live updates', 'url': 'https://www.cnn.com/us/live-news/us-coronavirus-update-04-29-20/index.html', 'source': 'CNN.com', 'time': '8 mins ago', 'date': '2020-04-29 10:00:00', 'query': 'Covid-19', 'story_position': 5, 'domain': 'www.cnn.com'}, {'title': 'Free COVID-19 Testing Can Come With Hidden Costs : Shots - Health News', 'url': 'https://www.npr.org/sections/health-shots/2020/04/29/847450671/covid-19-tests-that-are-supposed-to-be-free-can-ring-up-surprising-charges', 'source': 'NPR', 'time': '3 hours ago', 'date': '2020-04-29 10:00:00', 'query': 'Covid-19', 'story_position': 6, 'domain': 'www.npr.org'}, {'title': \"Lawrence Jones rips Hillary Clinton's new call not to 'waste' the COVID-19 \\ncrisis\", 'url': 'https://www.foxnews.com/media/lawrence-jones-rips-hillarys-call-for-universal-health-care-in-response', 'source': 'Fox News', 'time': '3 hours ago', 'date': '2020-04-29 10:00:00', 'query': 'Covid-19', 'story_position': 7, 'domain': 'www.foxnews.com'}, {'title': \"How accurate is the US coronavirus death count? Some experts say it's off \\nby 'tens of thousands'\", 'url': 'https://abcnews.go.com/Health/accurate-us-coronavirus-death-count-experts-off-tens/story?id=70385359', 'source': 'ABC News', 'time': '6 hours ago', 'date': '2020-04-29 10:00:00', 'query': 'Covid-19', 'story_position': 8, 'domain': 'abcnews.go.com'}, {'title': \"Holly Marie Combs blames Trump for grandfather's COVID-19 death: 'He \\nbelieved every lie'\", 'url': 'https://www.usatoday.com/story/entertainment/celebrities/2020/04/28/holly-marie-combs-blames-trump-grandfathers-covid-19-death/3045687001/', 'source': 'USATODAY.com', 'time': '11 hours ago', 'date': '2020-04-29 10:00:00', 'query': 'Covid-19', 'story_position': 9, 'domain': 'www.usatoday.com'}, {'title': \"NH's COVID-19 cases top 2000; more positives announced in Jaffrey, Rindge\", 'url': 'https://www.sentinelsource.com/news/local/nhs-covid-19-cases-top-2-000-more-positives-announced-in-jaffrey-rindge/article_55453227-84f6-5f09-b03d-4359b6e6fee5.html', 'source': 'The Keene Sentinel', 'time': '14 hours ago', 'date': '2020-04-29 10:00:00', 'query': 'Covid-19', 'story_position': 10, 'domain': 'www.sentinelsource.com'}]\n",
      "[{'title': 'CDC confirms six coronavirus symptoms showing up in patients over and over', 'url': 'https://www.washingtonpost.com/health/2020/04/27/six-new-coronavirus-symptoms/', 'source': 'Washington Post', 'time': '2 days ago', 'date': '2020-04-29 22:00:00', 'query': 'coronavirus symptoms', 'story_position': 1, 'domain': 'www.washingtonpost.com'}, {'title': 'CDC Adds 6 Symptoms To Its COVID-19 List : Coronavirus Live Updates', 'url': 'https://www.npr.org/sections/coronavirus-live-updates/2020/04/27/845321155/cdc-adds-6-symptoms-to-its-covid-19-list', 'source': 'NPR', 'time': '2 days ago', 'date': '2020-04-29 22:00:00', 'query': 'coronavirus symptoms', 'story_position': 2, 'domain': 'www.npr.org'}, {'title': \"Prisma Health launches SC's first interactive, free symptom-checker for \\nCOVID-19\", 'url': 'https://www.wyff4.com/article/prisma-health-launches-scs-first-interactive-free-symptom-checker-for-covid-19/32316390', 'source': 'WYFF.com', 'time': '3 hours ago', 'date': '2020-04-29 22:00:00', 'query': 'coronavirus symptoms', 'story_position': 3, 'domain': 'www.wyff4.com'}]\n",
      "[{'title': 'Coronavirus live updates: Breed to non-San Franciscans seeking city hotel \\nrooms: No', 'url': 'https://www.sfchronicle.com/bayarea/article/Coronavirus-live-updates-news-bay-area-15192855.php', 'source': 'San Francisco Chronicle', 'time': '5 hours ago', 'date': '2020-04-29 22:00:00', 'query': 'coronavirus test', 'story_position': 1, 'domain': 'www.sfchronicle.com'}, {'title': 'Coronavirus pandemic in the US: Live updates', 'url': 'https://www.cnn.com/us/live-news/us-coronavirus-update-04-29-20/index.html', 'source': 'CNN.com', 'time': '1 hour ago', 'date': '2020-04-29 22:00:00', 'query': 'coronavirus test', 'story_position': 2, 'domain': 'www.cnn.com'}, {'title': 'Mayor: LA 1st major US city offering all residents tests', 'url': 'https://www.washingtonpost.com/health/mayor-la-1st-major-us-city-offering-all-residents-tests/2020/04/29/2c3913ac-8a87-11ea-80df-d24b35a568ae_story.html', 'source': 'Washington Post', 'time': '12 mins ago', 'date': '2020-04-29 22:00:00', 'query': 'coronavirus test', 'story_position': 3, 'domain': 'www.washingtonpost.com'}]\n",
      "[{'title': 'Vermont records zero new coronavirus cases for first time in nearly 7 weeks', 'url': 'https://www.foxnews.com/us/vermont-zero-new-coronavirus-cases', 'source': 'Fox News', 'time': '9 hours ago', 'date': '2020-04-29 22:00:00', 'query': 'coronavirus', 'story_position': 1, 'domain': 'www.foxnews.com'}, {'title': \"Tampa Bay Times: Florida officials asked state's medical examiners to \\nwithhold coronavirus death figures\", 'url': 'https://www.cnn.com/2020/04/29/politics/florida-coronavirus-death-figures-withheld/index.html', 'source': 'CNN.com', 'time': '2 hours ago', 'date': '2020-04-29 22:00:00', 'query': 'coronavirus', 'story_position': 2, 'domain': 'www.cnn.com'}, {'title': 'Sealing borders saves lives during coronavirus pandemic: Devine', 'url': 'https://nypost.com/2020/04/29/sealing-borders-saves-lives-during-coronavirus-pandemic-devine/', 'source': 'New York Post', 'time': '24 mins ago', 'date': '2020-04-29 22:00:00', 'query': 'coronavirus', 'story_position': 3, 'domain': 'nypost.com'}, {'title': \"City council discussing proposed 'Amazon Tax' to fund coronavirus relief\", 'url': 'http://komonews.com/news/coronavirus/city-council-discussing-proposed-amazon-tax-to-fund-coronavirus-relief', 'source': 'KOMO', 'time': '36 mins ago', 'date': '2020-04-29 22:00:00', 'query': 'coronavirus', 'story_position': 4, 'domain': 'komonews.com'}, {'title': 'Website sells $100 coronavirus commemorative coins, sparking backlash | \\nTheHill', 'url': 'https://thehill.com/blogs/blog-briefing-room/news/495388-website-sells-100-coronavirus-commemorative-coins', 'source': 'TheHill', 'time': '50 mins ago', 'date': '2020-04-29 22:00:00', 'query': 'coronavirus', 'story_position': 5, 'domain': 'thehill.com'}, {'title': 'Coronavirus cluster at Walmart: 23 employees of Worcester store test \\npositive', 'url': 'https://www.bostonherald.com/2020/04/29/coronavirus-cluster-at-walmart-23-employees-of-worcester-store-test-positive/', 'source': 'Boston Herald', 'time': '3 hours ago', 'date': '2020-04-29 22:00:00', 'query': 'coronavirus', 'story_position': 6, 'domain': 'www.bostonherald.com'}, {'title': 'After One Tweet To President Trump, This Man Got $69 Million From New York \\nFor Ventilators', 'url': 'https://www.buzzfeednews.com/article/rosalindadams/after-one-tweet-to-president-trump-this-man-got-69-million', 'source': 'BuzzFeed News', 'time': '4 hours ago', 'date': '2020-04-29 22:00:00', 'query': 'coronavirus', 'story_position': 7, 'domain': 'www.buzzfeednews.com'}, {'title': \"'Slow The Spread' Guidelines Will Phase Out, Trump Says : Coronavirus Live \\nUpdates\", 'url': 'https://www.npr.org/sections/coronavirus-live-updates/2020/04/29/848025672/white-houses-social-distancing-guidelines-will-be-fading-out-trump-says', 'source': 'NPR', 'time': '4 hours ago', 'date': '2020-04-29 22:00:00', 'query': 'coronavirus', 'story_position': 8, 'domain': 'www.npr.org'}, {'title': 'Coronavirus: NYC mayor sorry for Jewish funeral criticism', 'url': 'https://www.bbc.com/news/world-us-canada-52478414', 'source': 'BBC', 'time': '4 hours ago', 'date': '2020-04-29 22:00:00', 'query': 'coronavirus', 'story_position': 9, 'domain': 'www.bbc.com'}, {'title': \"'A drug can block this virus': Fauci hails Covid-19 treatment breakthrough\", 'url': 'https://www.politico.com/news/2020/04/29/gilead-coronavirus-remdesivir-220484', 'source': 'Politico', 'time': '4 hours ago', 'date': '2020-04-29 22:00:00', 'query': 'coronavirus', 'story_position': 10, 'domain': 'www.politico.com'}]\n",
      "[{'title': 'Fauci says experimental coronavirus treatment remdesivir could shorten \\nCOVID-19 recovery time', 'url': 'https://www.foxnews.com/science/fauci-says-experimental-coronavirus-treatment-remdesivir-could-shorten-covid-19-recovery-time', 'source': 'Fox News', 'time': '6 hours ago', 'date': '2020-04-29 22:00:00', 'query': 'Covid-19', 'story_position': 1, 'domain': 'www.foxnews.com'}, {'title': 'Spike in US deaths and cases flagged as pneumonia suggest even greater \\nCOVID-19 impact', 'url': 'https://www.usatoday.com/story/news/investigations/2020/04/29/far-greater-u-s-covid-19-death-toll-indicated-cdc-data/3048381001/', 'source': 'USATODAY.com', 'time': '3 hours ago', 'date': '2020-04-29 22:00:00', 'query': 'Covid-19', 'story_position': 2, 'domain': 'www.usatoday.com'}, {'title': 'Some COVID-19 restrictions in Nevada will be eased Friday', 'url': 'https://www.kolotv.com/content/news/Some-COVID-19-restrictions-in-Nevada-will-be-eased-Friday-570064451.html', 'source': 'KOLO 8 News Now', 'time': '41 mins ago', 'date': '2020-04-29 22:00:00', 'query': 'Covid-19', 'story_position': 3, 'domain': 'www.kolotv.com'}, {'title': 'Over 70% of tested inmates in federal prisons have COVID-19', 'url': 'https://apnews.com/fb43e3ebc447355a4f71e3563dbdca4f', 'source': 'AP News', 'time': '45 mins ago', 'date': '2020-04-29 22:00:00', 'query': 'Covid-19', 'story_position': 4, 'domain': 'apnews.com'}, {'title': 'Debate emerges: Should businesses be protected from Covid-19 lawsuits?', 'url': 'https://www.cnn.com/2020/04/29/business/business-liability-congress/index.html', 'source': 'CNN.com', 'time': '1 hour ago', 'date': '2020-04-29 22:00:00', 'query': 'Covid-19', 'story_position': 5, 'domain': 'www.cnn.com'}, {'title': 'Elon Musk says shelter-in-place orders during COVID-19 are ‘fascist’', 'url': 'https://www.theverge.com/2020/4/29/21242102/elon-musk-coronavirus-fascist-shelter-in-place-tesla-covid-19-safety-science', 'source': 'The Verge', 'time': '2 hours ago', 'date': '2020-04-29 22:00:00', 'query': 'Covid-19', 'story_position': 6, 'domain': 'www.theverge.com'}, {'title': 'Remdesivir Speeds Recovery From COVID-19 In Preliminary Trial Results : \\nShots - Health News', 'url': 'https://www.npr.org/sections/health-shots/2020/04/29/848034963/antiviral-drug-remdesivir-shows-promise-for-treating-coronavirus-in-nih-study', 'source': 'NPR', 'time': '3 hours ago', 'date': '2020-04-29 22:00:00', 'query': 'Covid-19', 'story_position': 7, 'domain': 'www.npr.org'}, {'title': 'First bit of success from a randomized trial of a COVID-19 treatment \\n[UPDATED]', 'url': 'https://arstechnica.com/science/2020/04/first-treatment-for-sars-cov-2-shortens-recovery-time/', 'source': 'Ars Technica', 'time': '4 hours ago', 'date': '2020-04-29 22:00:00', 'query': 'Covid-19', 'story_position': 8, 'domain': 'arstechnica.com'}, {'title': 'Did This Nobel Prize Winner Say COVID-19 Was Created in a Lab?', 'url': 'https://www.snopes.com/fact-check/luc-montagnier-covid-created-lab/', 'source': 'Snopes.com', 'time': '4 hours ago', 'category': 'Fact check article', 'date': '2020-04-29 22:00:00', 'query': 'Covid-19', 'story_position': 9, 'domain': 'www.snopes.com'}, {'title': 'Coronavirus Updates: Study Shows Experimental Drug Helps Fight COVID-19; \\nFauci Warns of Second Wave', 'url': 'https://weather.com/health/coronavirus/news/2020-04-29-daily-coronavirus-updates-million-cases-second-wave', 'source': 'The Weather Channel', 'time': '5 hours ago', 'date': '2020-04-29 22:00:00', 'query': 'Covid-19', 'story_position': 10, 'domain': 'weather.com'}]\n",
      "[{'title': 'The CDC adds 6 new coronavirus symptoms to its list', 'url': 'https://www.cnet.com/news/every-coronavirus-symptom-you-can-have-according-to-the-cdc/', 'source': 'CNet', 'time': '1 day ago', 'date': '2020-04-30 10:00:00', 'query': 'coronavirus symptoms', 'story_position': 1, 'domain': 'www.cnet.com'}, {'title': 'COVID-19 caused strokes in young people who had mild coronavirus symptoms, \\nNYC doctors say', 'url': 'https://www.usatoday.com/story/news/health/2020/04/29/coronavirus-covid-19-caused-strokes-young-patients-nyc-doctors/3046447001/', 'source': 'USATODAY.com', 'time': '23 hours ago', 'date': '2020-04-30 10:00:00', 'query': 'coronavirus symptoms', 'story_position': 2, 'domain': 'www.usatoday.com'}, {'title': 'Why Days 5 to 10 Are So Important When You Have Coronavirus', 'url': 'https://www.nytimes.com/2020/04/30/well/live/coronavirus-days-5-through-10.html', 'source': 'The New York Times', 'time': '1 hour ago', 'date': '2020-04-30 10:00:00', 'query': 'coronavirus symptoms', 'story_position': 3, 'domain': 'www.nytimes.com'}]\n",
      "[{'title': \"Debi Mazar claims she can't get coronavirus test in New York to prove she's \\nCOVID-19 free\", 'url': 'https://www.foxnews.com/entertainment/debi-mazar-gives-coronavirus-update-tests-new-york-not-available', 'source': 'Fox News', 'time': '2 hours ago', 'date': '2020-04-30 10:00:00', 'query': 'coronavirus test', 'story_position': 1, 'domain': 'www.foxnews.com'}, {'title': 'All L.A. County residents can now get free coronavirus tests, Garcetti says', 'url': 'https://www.latimes.com/california/story/2020-04-29/all-l-a-residents-can-how-get-coronavirus-test-garcetti-says', 'source': 'Los Angeles Times', 'time': '13 hours ago', 'date': '2020-04-30 10:00:00', 'query': 'coronavirus test', 'story_position': 2, 'domain': 'www.latimes.com'}, {'title': 'Coronavirus updates: Drug trials bring hope as COVID-19 fuels job losses', 'url': 'https://www.cbsnews.com/live-updates/coronavirus-latest-updates-2020-04-30/', 'source': 'CBS News', 'time': '11 mins ago', 'date': '2020-04-30 10:00:00', 'query': 'coronavirus test', 'story_position': 3, 'domain': 'www.cbsnews.com'}, {'title': 'Coronavirus pandemic in the US: Live updates', 'url': 'https://www.cnn.com/us/live-news/us-coronavirus-update-04-30-20/index.html', 'source': 'CNN.com', 'time': '17 mins ago', 'date': '2020-04-30 10:00:00', 'query': 'coronavirus test', 'story_position': 4, 'domain': 'www.cnn.com'}, {'title': 'Coronavirus pandemic: Updates from around the world', 'url': 'https://www.cnn.com/world/live-news/coronavirus-pandemic-04-30-20-intl/index.html', 'source': 'CNN.com', 'time': '17 mins ago', 'date': '2020-04-30 10:00:00', 'query': 'coronavirus test', 'story_position': 5, 'domain': 'www.cnn.com'}, {'title': \"Lakers' Jared Dudley describes getting tested for coronavirus\", 'url': 'https://www.foxnews.com/sports/lakers-jared-dudley-coronavirus-test', 'source': 'Fox News', 'time': '1 hour ago', 'date': '2020-04-30 10:00:00', 'query': 'coronavirus test', 'story_position': 6, 'domain': 'www.foxnews.com'}, {'title': 'Why can’t Onondaga County get vital coronavirus test data from Walmart test \\nsite?', 'url': 'https://www.syracuse.com/coronavirus/2020/04/why-cant-onondaga-county-get-vital-coronavirus-test-data-from-walmart-test-site.html', 'source': 'Syracuse.com', 'time': '1 hour ago', 'date': '2020-04-30 10:00:00', 'query': 'coronavirus test', 'story_position': 7, 'domain': 'www.syracuse.com'}, {'title': 'Antigen Tests For The Coronavirus Might Be Easier, But How Reliable? : \\nShots - Health News', 'url': 'https://www.npr.org/sections/health-shots/2020/04/30/847416695/a-next-generation-coronavirus-test-raises-hopes-and-concerns', 'source': 'NPR', 'time': '5 hours ago', 'date': '2020-04-30 10:00:00', 'query': 'coronavirus test', 'story_position': 8, 'domain': 'www.npr.org'}, {'title': 'Coronavirus live updates: Newsom to announce closure of all state beaches, \\nparks, report says', 'url': 'https://www.sfchronicle.com/bayarea/article/Coronavirus-live-updates-news-bay-area-15192855.php', 'source': 'San Francisco Chronicle', 'time': '6 hours ago', 'date': '2020-04-30 10:00:00', 'query': 'coronavirus test', 'story_position': 9, 'domain': 'www.sfchronicle.com'}, {'title': \"How to get millions of people to take coronavirus tests and stay home if \\nthey're positive\", 'url': 'https://www.usatoday.com/story/opinion/2020/04/30/coronavirus-tests-quarantines-incentives-can-make-it-work-column/3048508001/', 'source': 'USATODAY.com', 'time': '7 hours ago', 'date': '2020-04-30 10:00:00', 'query': 'coronavirus test', 'story_position': 10, 'domain': 'www.usatoday.com'}]\n",
      "[{'title': 'Coronavirus pandemic: Updates from around the world', 'url': 'https://www.cnn.com/world/live-news/coronavirus-pandemic-04-30-20-intl/index.html', 'source': 'CNN.com', 'time': '15 mins ago', 'date': '2020-04-30 10:00:00', 'query': 'coronavirus', 'story_position': 1, 'domain': 'www.cnn.com'}, {'title': 'Coronavirus live updates: California to close beaches after crowds; \\nquarterly earnings results reveal pressure', 'url': 'https://www.cnbc.com/2020/04/30/coronavirus-latest-updates.html', 'source': 'CNBC.com', 'time': '2 hours ago', 'date': '2020-04-30 10:00:00', 'query': 'coronavirus', 'story_position': 2, 'domain': 'www.cnbc.com'}, {'title': \"Coronavirus Closes Mumbai's Historic Ramadan Food Bazaar On Mohammed Ali \\nRoad : Coronavirus Live Updates\", 'url': 'https://www.npr.org/sections/coronavirus-live-updates/2020/04/30/848194997/mumbais-historic-ramadan-food-bazaar-closes-for-the-first-time-due-to-coronaviru', 'source': 'NPR', 'time': '6 mins ago', 'date': '2020-04-30 10:00:00', 'query': 'coronavirus', 'story_position': 3, 'domain': 'www.npr.org'}, {'title': \"WHO 'urgently' investigating link between coronavirus and syndrome that \\naffects young kids\", 'url': 'https://www.nbcnews.com/health/health-news/who-urgently-investigating-link-between-coronavirus-syndrome-affects-young-kids-n1196411', 'source': 'NBC News', 'time': '12 mins ago', 'date': '2020-04-30 10:00:00', 'query': 'coronavirus', 'story_position': 4, 'domain': 'www.nbcnews.com'}, {'title': 'Elizabeth Warren’s plan to end mask and supply shortages in the coronavirus \\npandemic', 'url': 'https://www.vox.com/2020/4/30/21241842/coronavirus-covid-supply-shortages-ppe-elizabeth-warren', 'source': 'Vox', 'time': '16 mins ago', 'date': '2020-04-30 10:00:00', 'query': 'coronavirus', 'story_position': 5, 'domain': 'www.vox.com'}, {'title': \"Are 'covid toes' a real symptom of the coronavirus?\", 'url': 'https://www.livescience.com/frostbite-toes-covid-19.html', 'source': 'Live Science', 'time': '3 hours ago', 'date': '2020-04-30 10:00:00', 'query': 'coronavirus', 'story_position': 6, 'domain': 'www.livescience.com'}, {'title': 'Coronavirus live updates: Newsom to announce closure of all state beaches, \\nparks, report says', 'url': 'https://www.sfchronicle.com/bayarea/article/Coronavirus-live-updates-news-bay-area-15192855.php', 'source': 'San Francisco Chronicle', 'time': '3 hours ago', 'date': '2020-04-30 10:00:00', 'query': 'coronavirus', 'story_position': 7, 'domain': 'www.sfchronicle.com'}, {'title': 'Coronavirus: New York funeral home puts corpses in lorries', 'url': 'https://www.bbc.com/news/world-us-canada-52483279', 'source': 'BBC', 'time': '7 hours ago', 'date': '2020-04-30 10:00:00', 'query': 'coronavirus', 'story_position': 8, 'domain': 'www.bbc.com'}, {'title': \"These New Yorkers fleeing coronavirus vow they'll never return\", 'url': 'https://nypost.com/2020/04/29/these-new-yorkers-fleeing-coronavirus-vow-theyll-never-return/', 'source': 'New York Post', 'time': '10 hours ago', 'date': '2020-04-30 10:00:00', 'query': 'coronavirus', 'story_position': 9, 'domain': 'nypost.com'}, {'title': \"Court upholds Trump's coronavirus immigration ban\", 'url': 'https://www.politico.com/news/2020/04/29/court-upholds-trumps-coronavirus-immigration-ban-224855', 'source': 'Politico', 'time': '11 hours ago', 'date': '2020-04-30 10:00:00', 'query': 'coronavirus', 'story_position': 10, 'domain': 'www.politico.com'}]\n",
      "[{'title': 'Wuhan shows the world that the end of lockdown is just the beginning of the \\nCovid-19 crisis', 'url': 'https://www.cnn.com/2020/04/29/asia/wuhan-coronavirus-lockdown-analysis-intl-hnk/index.html', 'source': 'CNN.com', 'time': '1 hour ago', 'date': '2020-04-30 10:00:00', 'query': 'Covid-19', 'story_position': 1, 'domain': 'www.cnn.com'}, {'title': \"Russia's health system under pressure from Covid-19\", 'url': 'https://www.cnn.com/videos/world/2020/04/30/russia-coronavirus-covid-19-pandemic-health-service-hospital-vladimir-putin-chance-pkg-intl-ldn-vpx.cnn', 'source': 'CNN.com', 'time': '2 hours ago', 'date': '2020-04-30 10:00:00', 'query': 'Covid-19', 'story_position': 2, 'domain': 'www.cnn.com'}, {'title': 'The problem with the Covid-19 death numbers', 'url': 'https://www.cnn.com/2020/04/30/opinions/the-problem-with-covid-19-death-numbers-sutter/index.html', 'source': 'CNN.com', 'time': '37 mins ago', 'date': '2020-04-30 10:00:00', 'query': 'Covid-19', 'story_position': 3, 'domain': 'www.cnn.com'}, {'title': 'Inovio to expand manufacturing of COVID-19 vaccine candidate with new CEPI \\ngrant', 'url': 'http://www.marketwatch.com/story/inovio-to-expand-manufacturing-of-covid-19-vaccine-candidate-with-new-cepi-grant-2020-04-30', 'source': 'MarketWatch', 'time': '2 hours ago', 'date': '2020-04-30 10:00:00', 'query': 'Covid-19', 'story_position': 4, 'domain': 'www.marketwatch.com'}, {'title': \"David Letterman criticizes Mike Pence for 'taunting' COVID-19 patients by \\nnot wearing mask\", 'url': 'https://www.usatoday.com/story/entertainment/celebrities/2020/04/30/david-letterman-criticizes-mike-pence-taunting-covid-19-patients/3054228001/', 'source': 'USATODAY.com', 'time': '9 hours ago', 'date': '2020-04-30 10:00:00', 'query': 'Covid-19', 'story_position': 5, 'domain': 'www.usatoday.com'}, {'title': 'Is USPS Closing Soon Because of COVID-19?', 'url': 'https://www.snopes.com/fact-check/usps-closing-due-to-covid-19/', 'source': 'Snopes', 'time': '14 hours ago', 'category': 'Fact check article', 'date': '2020-04-30 10:00:00', 'query': 'Covid-19', 'story_position': 6, 'domain': 'www.snopes.com'}, {'title': 'Elon Musk says shelter-in-place orders during COVID-19 are ‘fascist’', 'url': 'https://www.theverge.com/2020/4/29/21242102/elon-musk-coronavirus-fascist-shelter-in-place-tesla-covid-19-safety-science', 'source': 'The Verge', 'time': '14 hours ago', 'date': '2020-04-30 10:00:00', 'query': 'Covid-19', 'story_position': 7, 'domain': 'www.theverge.com'}, {'title': 'FDA reportedly will approve COVID-19 treatment remdesivir', 'url': 'https://www.wmur.com/article/fda-reportedly-will-approve-covid-19-treatment-remdesivir/32321444', 'source': 'WMUR.com', 'time': '14 hours ago', 'date': '2020-04-30 10:00:00', 'query': 'Covid-19', 'story_position': 8, 'domain': 'www.wmur.com'}, {'title': 'Is COVID-19 claiming more lives in Vermont than originally thought?', 'url': 'https://www.wcax.com/content/news/Is-COVID-19-claiming-more-lives-in-Vermont-than-originally-thought-570056481.html', 'source': 'WCAX', 'time': '15 hours ago', 'date': '2020-04-30 10:00:00', 'query': 'Covid-19', 'story_position': 9, 'domain': 'www.wcax.com'}, {'title': 'First bit of success from a randomized trial of a COVID-19 treatment \\n[UPDATED]', 'url': 'https://arstechnica.com/science/2020/04/first-treatment-for-sars-cov-2-shortens-recovery-time/', 'source': 'Ars Technica', 'time': '16 hours ago', 'date': '2020-04-30 10:00:00', 'query': 'Covid-19', 'story_position': 10, 'domain': 'arstechnica.com'}]\n",
      "[{'title': '\"COVID toes\" and other skin symptoms may be a sign of coronavirus', 'url': 'https://www.cbsnews.com/news/covid-toes-frostbite-coronavirus-symptom/', 'source': 'CBS News', 'time': '7 hours ago', 'date': '2020-04-30 22:00:00', 'query': 'coronavirus symptoms', 'story_position': 1, 'domain': 'www.cbsnews.com'}, {'title': \"Are 'covid toes' a real symptom of the coronavirus?\", 'url': 'https://www.livescience.com/frostbite-toes-covid-19.html', 'source': 'Live Science', 'time': '15 hours ago', 'date': '2020-04-30 22:00:00', 'query': 'coronavirus symptoms', 'story_position': 2, 'domain': 'www.livescience.com'}, {'title': 'Infected Without Symptoms: A physician answers 5 questions about \\nasymptomatic COVID-19', 'url': 'https://news4sanantonio.com/news/coronavirus/infected-without-symptoms-a-physician-answers-5-questions-about-asymptomatic-covid-19', 'source': 'WOAI', 'time': '3 hours ago', 'date': '2020-04-30 22:00:00', 'query': 'coronavirus symptoms', 'story_position': 3, 'domain': 'news4sanantonio.com'}]\n",
      "[{'title': \"This family was randomly selected to take a coronavirus antibody test. \\nHere's what it's like\", 'url': 'https://www.cnn.com/2020/04/30/health/georgia-antibody-tests/index.html', 'source': 'CNN.com', 'time': '3 hours ago', 'date': '2020-04-30 22:00:00', 'query': 'coronavirus test', 'story_position': 1, 'domain': 'www.cnn.com'}, {'title': 'Maryland governor says coronavirus tests acquired from South Korea under \\nguard at undisclosed location | TheHill', 'url': 'https://thehill.com/homenews/state-watch/495519-maryland-governor-says-coronavirus-tests-acquired-from-south-korea-under', 'source': 'TheHill', 'time': '6 hours ago', 'date': '2020-04-30 22:00:00', 'query': 'coronavirus test', 'story_position': 2, 'domain': 'thehill.com'}, {'title': 'Coronavirus pandemic: Updates from around the world', 'url': 'https://www.cnn.com/world/live-news/coronavirus-pandemic-04-30-20-intl/index.html', 'source': 'CNN.com', 'time': '4 mins ago', 'date': '2020-04-30 22:00:00', 'query': 'coronavirus test', 'story_position': 3, 'domain': 'www.cnn.com'}, {'title': 'Coronavirus live updates: Bay Area hospitalizations, ICU cases reach April \\nlow', 'url': 'https://www.sfchronicle.com/bayarea/article/Coronavirus-live-updates-news-bay-area-15237940.php', 'source': 'San Francisco Chronicle', 'time': '19 mins ago', 'date': '2020-04-30 22:00:00', 'query': 'coronavirus test', 'story_position': 4, 'domain': 'www.sfchronicle.com'}, {'title': 'Stanislaus County records biggest daily jump in coronavirus cases. Two more \\nhave died', 'url': 'https://www.modbee.com/news/coronavirus/article242423111.html', 'source': 'Modesto Bee', 'time': '31 mins ago', 'date': '2020-04-30 22:00:00', 'query': 'coronavirus test', 'story_position': 5, 'domain': 'www.modbee.com'}, {'title': 'Early test results suggest widespread coronavirus infections at Washington \\nstate’s largest beef plant, Tyson', 'url': 'https://www.seattletimes.com/seattle-news/early-test-results-suggest-widespread-coronavirus-infections-at-washington-states-largest-beef-plant-tyson/', 'source': 'The Seattle Times', 'time': '58 mins ago', 'date': '2020-04-30 22:00:00', 'query': 'coronavirus test', 'story_position': 6, 'domain': 'www.seattletimes.com'}, {'title': \"Capitol physician says he doesn't have enough tests for all senators\", 'url': 'https://www.axios.com/senate-doctor-mitch-mcconnell-coronavirus-testing-e99282f6-90f5-4e11-8b45-02548f38ab12.html', 'source': 'Axios', 'time': '1 hour ago', 'date': '2020-04-30 22:00:00', 'query': 'coronavirus test', 'story_position': 7, 'domain': 'www.axios.com'}, {'title': 'Maryland governor using National Guard to protect tests from federal \\ngovernment', 'url': 'https://www.dailymail.co.uk/news/article-8276045/Maryland-governor-using-National-Guard-protect-tests-federal-government.html', 'source': 'Daily Mail', 'time': '1 hour ago', 'date': '2020-04-30 22:00:00', 'query': 'coronavirus test', 'story_position': 8, 'domain': 'www.dailymail.co.uk'}, {'title': 'Getting a coronavirus test in NYC is about to get easier — finally', 'url': 'https://nypost.com/2020/04/30/getting-a-coronavirus-test-in-nyc-is-about-to-get-easier/', 'source': 'New York Post', 'time': '2 hours ago', 'date': '2020-04-30 22:00:00', 'query': 'coronavirus test', 'story_position': 9, 'domain': 'nypost.com'}, {'title': 'Recovered patients who tested positive for COVID-19 likely not reinfected', 'url': 'https://www.livescience.com/coronavirus-reinfections-were-false-positives.html', 'source': 'Live Science', 'time': '3 hours ago', 'date': '2020-04-30 22:00:00', 'query': 'coronavirus test', 'story_position': 10, 'domain': 'www.livescience.com'}]\n",
      "[{'title': \"Trump contradicts US intel community by claiming he's seen evidence \\ncoronavirus originated in Chinese lab\", 'url': 'https://www.cnn.com/2020/04/30/politics/trump-intelligence-community-china-coronavirus-origins/index.html', 'source': 'CNN.com', 'time': '3 hours ago', 'date': '2020-04-30 22:00:00', 'query': 'coronavirus', 'story_position': 1, 'domain': 'www.cnn.com'}, {'title': \"Michigan protesters storm state Capitol in fight over coronavirus rules: \\n'Men with rifles yelling at us'\", 'url': 'https://www.foxnews.com/us/michigan-lansing-coronavirus-protest-capitol-guns-rifles', 'source': 'Fox News', 'time': '5 hours ago', 'date': '2020-04-30 22:00:00', 'query': 'coronavirus', 'story_position': 2, 'domain': 'www.foxnews.com'}, {'title': 'N.J. mayor thinks he had coronavirus 2 months before 1st confirmed case in \\nU.S.', 'url': 'https://www.nj.com/coronavirus/2020/04/nj-mayor-thinks-he-had-coronavirus-2-months-before-1st-confirmed-case-in-us.html', 'source': 'NJ.com', 'time': '31 mins ago', 'date': '2020-04-30 22:00:00', 'query': 'coronavirus', 'story_position': 3, 'domain': 'www.nj.com'}, {'title': 'PGA alters playing status guidelines due to coronavirus', 'url': 'https://sports.yahoo.com/pga-alters-playing-status-guidelines-due-coronavirus-013414041--golf.html', 'source': 'Yahoo! Sports', 'time': '35 mins ago', 'date': '2020-04-30 22:00:00', 'query': 'coronavirus', 'story_position': 4, 'domain': 'sports.yahoo.com'}, {'title': 'Passengers Must Wear Masks On Major Airlines To Cut Spread Of Coronavirus', 'url': 'https://www.npr.org/sections/coronavirus-live-updates/2020/04/30/848856259/passengers-must-wear-masks-on-major-airlines-to-cut-spread-of-coronavirus', 'source': 'NPR', 'time': '1 hour ago', 'date': '2020-04-30 22:00:00', 'query': 'coronavirus', 'story_position': 5, 'domain': 'www.npr.org'}, {'title': 'Coronavirus live updates: Bay Area hospitalizations, ICU cases reach April \\nlow', 'url': 'https://www.sfchronicle.com/bayarea/article/Coronavirus-live-updates-news-bay-area-15237940.php', 'source': 'San Francisco Chronicle', 'time': '2 hours ago', 'date': '2020-04-30 22:00:00', 'query': 'coronavirus', 'story_position': 6, 'domain': 'www.sfchronicle.com'}, {'title': 'Daily coronavirus updates: Four-stage process to reopen Connecticut will \\nstart May 20 if numbers continue to d', 'url': 'https://www.courant.com/coronavirus/hc-news-coronavirus-daily-updates-0430-20200430-mogn56d6frdlfm64vw7sxwsuji-story.html', 'source': 'Hartford Courant', 'time': '5 hours ago', 'date': '2020-04-30 22:00:00', 'query': 'coronavirus', 'story_position': 7, 'domain': 'www.courant.com'}, {'title': \"Don't get TOO much exercise during your coronavirus quarantine. Here's why.\", 'url': 'https://www.usatoday.com/story/life/health-wellness/2020/04/30/coronavirus-dont-exercise-too-much-during-quarantine-heres-why/3048034001/', 'source': 'USA Today', 'time': '6 hours ago', 'date': '2020-04-30 22:00:00', 'query': 'coronavirus', 'story_position': 8, 'domain': 'www.usatoday.com'}, {'title': '‘She will be missed’: UMass graduate dies of coronavirus after twice being \\ndenied testing', 'url': 'https://whdh.com/news/she-will-be-missed-umass-graduate-dies-of-coronavirus-after-twice-being-denied-testing/', 'source': 'WHDH 7News', 'time': '6 hours ago', 'date': '2020-04-30 22:00:00', 'query': 'coronavirus', 'story_position': 9, 'domain': 'whdh.com'}, {'title': 'Coronavirus patient dead after medical residents set ventilator too high', 'url': 'https://nypost.com/2020/04/30/coronavirus-patient-dead-after-medical-residents-set-ventilator-too-high/', 'source': 'New York Post', 'time': '9 hours ago', 'date': '2020-04-30 22:00:00', 'query': 'coronavirus', 'story_position': 10, 'domain': 'nypost.com'}]\n",
      "[{'title': 'Eye-opening South Korea study on Covid-19', 'url': 'https://www.cnn.com/2020/04/30/opinions/eye-opening-south-korea-study-on-covid-19-sepkowitz/index.html', 'source': 'CNN.com', 'time': '7 hours ago', 'date': '2020-04-30 22:00:00', 'query': 'Covid-19', 'story_position': 1, 'domain': 'www.cnn.com'}, {'title': 'Answering Your Coronavirus Questions: COVID-19 And Kidneys, Masks And Pets', 'url': 'https://www.npr.org/2020/04/30/848814120/answering-your-coronavirus-questions-covid-19-and-kidneys-masks-and-pets', 'source': 'NPR', 'time': '1 hour ago', 'date': '2020-04-30 22:00:00', 'query': 'Covid-19', 'story_position': 2, 'domain': 'www.npr.org'}, {'title': 'Lake City father, 31, is youngest reported COVID-19 death in Northeast \\nFlorida', 'url': 'https://www.news4jax.com/news/local/2020/05/01/lake-city-father-31-is-youngest-reported-covid-19-death-in-northeast-florida/', 'source': 'News4Jax', 'time': '46 mins ago', 'date': '2020-04-30 22:00:00', 'query': 'Covid-19', 'story_position': 3, 'domain': 'www.news4jax.com'}, {'title': 'OLB Von Miller tests negative for COVID-19', 'url': 'https://www.denverbroncos.com/news/olb-von-miller-tests-negative-for-covid-19', 'source': 'Denver Broncos', 'time': '59 mins ago', 'date': '2020-04-30 22:00:00', 'query': 'Covid-19', 'story_position': 4, 'domain': 'www.denverbroncos.com'}, {'title': 'CCAT suspends bus services over possible COVID-19 exposure', 'url': 'https://theworldlink.com/news/ccat-suspends-bus-services-over-possible-covid-19-exposure/article_fadec59a-8b44-11ea-bb88-3f38a0db6789.html', 'source': 'TheWorldlink.com', 'time': '1 hour ago', 'date': '2020-04-30 22:00:00', 'query': 'Covid-19', 'story_position': 5, 'domain': 'theworldlink.com'}, {'title': 'Texas reports most deaths in a day from COVID-19 as Gov. Abbott prepares to \\ndrop stay-home order', 'url': 'https://www.houstonchronicle.com/news/article/Texas-reports-most-deaths-in-a-day-from-COVID-19-15238205.php', 'source': 'Houston Chronicle', 'time': '1 hour ago', 'date': '2020-04-30 22:00:00', 'query': 'Covid-19', 'story_position': 6, 'domain': 'www.houstonchronicle.com'}, {'title': 'Nursing home receptionist, former teaching assistant dies after contracting \\nCOVID-19', 'url': 'https://www.wpri.com/health/coronavirus/nursing-home-receptionist-former-teaching-assistant-dies-after-contracting-covid-19/', 'source': 'WPRI.com', 'time': '1 hour ago', 'date': '2020-04-30 22:00:00', 'query': 'Covid-19', 'story_position': 7, 'domain': 'www.wpri.com'}, {'title': 'Armed Protesters Storm Michigan State House Over COVID-19 Lockdown', 'url': 'https://www.forbes.com/sites/andrewsolender/2020/04/30/armed-protesters-storm-michigan-state-house-over-covid-19-lockdown/', 'source': 'Forbes', 'time': '3 hours ago', 'date': '2020-04-30 22:00:00', 'query': 'Covid-19', 'story_position': 8, 'domain': 'www.forbes.com'}, {'title': \"Jeff Bezos tells shareholders to 'take a seat' as company manages Covid-19\", 'url': 'https://www.cnn.com/2020/04/30/tech/amazon-earnings-coronavirus/index.html', 'source': 'CNN.com', 'time': '3 hours ago', 'date': '2020-04-30 22:00:00', 'query': 'Covid-19', 'story_position': 9, 'domain': 'www.cnn.com'}, {'title': 'Armed protesters demonstrate against Covid-19 lockdown at Michigan capitol', 'url': 'https://www.theguardian.com/us-news/2020/apr/30/michigan-protests-coronavirus-lockdown-armed-capitol', 'source': 'The Guardian', 'time': '3 hours ago', 'date': '2020-04-30 22:00:00', 'query': 'Covid-19', 'story_position': 10, 'domain': 'www.theguardian.com'}]\n"
     ]
    }
   ],
   "source": [
    "allTopStories = []\n",
    "totalFiles = 0\n",
    "for dirpath, dirnames, filenames in os.walk(\"GoogleTopStories/2020/04\"):\n",
    "    for fN in filenames: \n",
    "        if fN.endswith('.json'): # Avoid any other types of files, such as .DS_Store\n",
    "            totalFiles += 1\n",
    "            filePath = os.path.join(dirpath, fN) # create the whole path of a file\n",
    "            with open(filePath) as inputF:\n",
    "                data = json.load(inputF)\n",
    "                allTopStories.extend(data)\n",
    "                print (data)\n",
    "                #printing all the data, but we only want data from the key \"date\" to include 2002-04\n",
    "\n",
    "#date = 2020-04\n"
   ]
  },
  {
   "cell_type": "markdown",
   "id": "a2ff2670-3681-494f-980b-12006e8c039c",
   "metadata": {},
   "source": [
    "<a id=\"sec2\"></a>\n",
    "## Part 2: Create the new `domain` column\n",
    "\n",
    "Let's load the data that we created in Part 1 into a dataframe."
   ]
  },
  {
   "cell_type": "code",
   "execution_count": null,
   "id": "d3509da0-2b9c-4e7b-bdca-5c1e7c26415c",
   "metadata": {},
   "outputs": [],
   "source": [
    "import pandas as pd\n",
    "\n",
    "df = pd.read_csv('our-results.csv')\n",
    "df.head()"
   ]
  },
  {
   "cell_type": "markdown",
   "id": "a74609d1-b6a6-4db7-b2ed-51c4c0369603",
   "metadata": {},
   "source": [
    "**How to extract the domain name from the URL?**"
   ]
  },
  {
   "cell_type": "code",
   "execution_count": null,
   "id": "47127e98-2197-419a-a588-07d4458e1699",
   "metadata": {},
   "outputs": [],
   "source": [
    "from urllib.parse import urlparse\n",
    "\n",
    "oneUrl = df.iloc[0]['url'] # retrieve url from first row of dataframe\n",
    "urlparse(oneUrl)"
   ]
  },
  {
   "cell_type": "markdown",
   "id": "4dea6541-41b4-4291-9d12-d3aaba37daeb",
   "metadata": {},
   "source": [
    "Notice that the result is an object and the domain name is the value of the attribute `netloc`. Now, we can easily make use of this to write the helper function to extract the domain name."
   ]
  },
  {
   "cell_type": "markdown",
   "id": "2d615da2-047c-4f56-aff8-584cba379dea",
   "metadata": {},
   "source": [
    "**Write a helper function**"
   ]
  },
  {
   "cell_type": "code",
   "execution_count": null,
   "id": "76741dae-c2cd-4a56-8a9c-5c4e964b1242",
   "metadata": {},
   "outputs": [],
   "source": [
    "from urllib.parse import urlparse\n",
    "\n",
    "def getDomain(field):\n",
    "    \"\"\"returns the domain name of a url\"\"\"\n",
    "    return urlparse(field).netloc\n"
   ]
  },
  {
   "cell_type": "markdown",
   "id": "209dd761-07d9-4ab8-8291-2e48be3b6a4b",
   "metadata": {},
   "source": [
    "Apply the helper function to the whole column and store the results to a new column:"
   ]
  },
  {
   "cell_type": "code",
   "execution_count": null,
   "id": "5955a6bb-bf25-4543-8bc5-2649c578927f",
   "metadata": {},
   "outputs": [],
   "source": [
    "df['domain2'] = df['url'].apply(getDomain)\n",
    "df.head()"
   ]
  },
  {
   "cell_type": "markdown",
   "id": "8eec9de3-9458-4b8f-b2d9-8580b2b39029",
   "metadata": {},
   "source": [
    "**Your Task: Create a new column**\n",
    "\n",
    "Create a new column that will store the number of words on the title of each article. The column name should be `wordCount`. Show the head of the dataframe to indicate that the column was created."
   ]
  },
  {
   "cell_type": "code",
   "execution_count": null,
   "id": "48f7458a-b4ed-4f3d-976f-055cd0d0f542",
   "metadata": {},
   "outputs": [],
   "source": []
  },
  {
   "cell_type": "code",
   "execution_count": null,
   "id": "de352e08-9a19-499e-b0b0-3ef590f69155",
   "metadata": {},
   "outputs": [],
   "source": []
  },
  {
   "cell_type": "markdown",
   "id": "deb72a7a-6e81-4171-b0ea-ace861271d8f",
   "metadata": {},
   "source": [
    "<a id=\"sec3\"></a>\n",
    "## Part 3: Bar chart of top 10 domains\n",
    "\n",
    "To create the bar chart of the top 10 domains, we first need to find the top 10 domains.\n",
    "\n",
    "The method `value_counts` returns a **sorted** series of counts for each value in a column."
   ]
  },
  {
   "cell_type": "code",
   "execution_count": null,
   "id": "48d4c45f-c7e5-4137-a3b2-c7e9de8cb8dc",
   "metadata": {},
   "outputs": [],
   "source": [
    "# Find the top 10 domains using value_counts\n",
    "domainCounts = df['domain'].value_counts()[:10]"
   ]
  },
  {
   "cell_type": "markdown",
   "id": "9ca24649-ede3-44fd-bf47-562f31c0bbf3",
   "metadata": {},
   "source": [
    "Let's see what it looks like:"
   ]
  },
  {
   "cell_type": "code",
   "execution_count": null,
   "id": "b83d7eaa-c881-4257-aee4-b84a9ef34952",
   "metadata": {},
   "outputs": [],
   "source": [
    "domainCounts"
   ]
  },
  {
   "cell_type": "markdown",
   "id": "77cb485b-4935-44da-b4bf-5e5c7b618460",
   "metadata": {},
   "source": [
    "Let's look up the type of our our result:"
   ]
  },
  {
   "cell_type": "code",
   "execution_count": null,
   "id": "384c5af3-9cb6-4d80-b310-68bba8e0d8da",
   "metadata": {},
   "outputs": [],
   "source": [
    "type(domainCounts)"
   ]
  },
  {
   "cell_type": "markdown",
   "id": "a1e9758c-5ff7-4c45-b5dc-921e3787f129",
   "metadata": {},
   "source": [
    "Since the result is a Series, we will convert it to a dataframe. [**Note:** The method `reset_index` converts a Series into a DataFrame, where the original index becomes a column in the DataFrame, and the Series values occupies another column, for which we have to provide a column name.]"
   ]
  },
  {
   "cell_type": "code",
   "execution_count": null,
   "id": "c446a56b-49d3-4ee9-aa3c-7b049a7bc8e7",
   "metadata": {},
   "outputs": [],
   "source": [
    "data = domainCounts.reset_index(name='count')\n",
    "data"
   ]
  },
  {
   "cell_type": "markdown",
   "id": "639d2b4c-8874-4f38-ad7e-49703f777cf5",
   "metadata": {},
   "source": [
    "Now that we have a dataframe we can use Seaborn to generate charts. Below I'm creating a bar plot."
   ]
  },
  {
   "cell_type": "code",
   "execution_count": null,
   "id": "79831878-17d2-4c07-bfbc-965757b44a65",
   "metadata": {},
   "outputs": [],
   "source": [
    "import seaborn as sns\n",
    "import matplotlib.pyplot as plt\n",
    "\n",
    "plt.figure(figsize=(8, 4))   # adjusting the size of the figure where the plot will be displayed\n",
    "sns.set_style(\"whitegrid\")  \n",
    "\n",
    "# Create the horizontal bar plot\n",
    "ax = sns.barplot(x='count', y='domain', data=data, color=\"salmon\", legend=None)\n",
    "\n",
    "# Set titles\n",
    "ax.set_xlabel(\"Count\", fontsize=10)\n",
    "ax.set_ylabel(\"Domain\", fontsize=10)\n",
    "ax.set_title(\"Top 10 Domains by Count\", fontsize=14)\n",
    "\n",
    "# Display the plot\n",
    "plt.show()"
   ]
  },
  {
   "cell_type": "markdown",
   "id": "b1576471-b181-4d79-9651-3bf5d8178476",
   "metadata": {},
   "source": [
    "**Your Task: Create a bar chart of query occurrences**\n",
    "\n",
    "Adapt the code above to generate the bar chart of the query occurrences. Make sure that you change the barplot titles to reflect the new variable being displayed. Change the color of the graph and [visit this Seaborn documentation page](https://seaborn.pydata.org/tutorial/aesthetics.html) for inspiration on changing the style of the plot."
   ]
  },
  {
   "cell_type": "code",
   "execution_count": null,
   "id": "1b24e808-f9a7-47cb-8a74-63ee6e298aaa",
   "metadata": {},
   "outputs": [],
   "source": []
  },
  {
   "cell_type": "code",
   "execution_count": null,
   "id": "d1ee7935-5305-4e18-8013-43c11a034899",
   "metadata": {},
   "outputs": [],
   "source": []
  },
  {
   "cell_type": "markdown",
   "id": "77dc99af-71f7-42a4-8085-8f07c92f569f",
   "metadata": {},
   "source": [
    "<a id=\"sec4\"></a>\n",
    "## Part 4: Heatmap for the story positions\n",
    "\n",
    "We are interested in the question: Are all news sources equally likely to show up in all positions? Or some of them show up more frequently in a certain position? To explore this question visually, we will create a heatmap. However, since there are hundreds of news sources in our dataset, we will focus only on the top 10 for simplicity."
   ]
  },
  {
   "cell_type": "code",
   "execution_count": null,
   "id": "16365311-07f9-407a-b2ed-9dad0990cdb4",
   "metadata": {},
   "outputs": [],
   "source": [
    "# First, find the names of the top 10 domains\n",
    "# Then, filter the dataframe to select only the rows of one of the top 10 domains (articles that belong to these news domains)\n",
    "\n",
    "topTen = df['domain'].value_counts()[:10].index.tolist() # remember from part 3 that value_counts returns a Series and the 'domain' column is the index of it\n",
    "dfSmall = df[df['domain'].isin(topTen)] # do the filtering. Notice the filter syntax.\n",
    "dfSmall.shape"
   ]
  },
  {
   "cell_type": "markdown",
   "id": "ef8ed4ea-b290-42a6-ac43-fa047424f17c",
   "metadata": {},
   "source": [
    "As a reminder, here is what the size of the whole dataframe is:"
   ]
  },
  {
   "cell_type": "code",
   "execution_count": null,
   "id": "106088f6-0377-4c20-b125-548008176957",
   "metadata": {},
   "outputs": [],
   "source": [
    "df.shape"
   ]
  },
  {
   "cell_type": "markdown",
   "id": "e398e80a-70df-4dff-b435-0ed9331005f6",
   "metadata": {},
   "source": [
    "Let's calcuate the proportion of articles from the top 10 domains:"
   ]
  },
  {
   "cell_type": "code",
   "execution_count": null,
   "id": "96f25f95-3ef7-416a-a8ba-644a7232e52a",
   "metadata": {},
   "outputs": [],
   "source": [
    "proportion = dfSmall.shape[0]/df.shape[0] * 100\n",
    "proportion"
   ]
  },
  {
   "cell_type": "markdown",
   "id": "0e41c91a-edd9-42b4-9d20-8af50df60a0d",
   "metadata": {},
   "source": [
    "**Question:** What does the fact that the proportion of the occurrences of the top 10 domains comes at 45% tell us about Google's algorithms?"
   ]
  },
  {
   "cell_type": "markdown",
   "id": "80bf7d37-fd2f-4e75-a54d-a396b1442a73",
   "metadata": {},
   "source": [
    "**Your Answer:** "
   ]
  },
  {
   "cell_type": "markdown",
   "id": "911c0a4a-ad73-4378-b60c-0de298f090c4",
   "metadata": {},
   "source": [
    "### Creating a pivot table\n",
    "\n",
    "Our current dataframe, `dfSmall` presents itself as a **tidy table**, each row is an observation. We will now convert it to a form that it is not a **tidy table**, because the columns will become values of the variable \"story_position\". This will allow us to count how many domains show up in each of the 10 positions.\n",
    "\n",
    "To create such a table we will use pandas' `pivot_table` method, which builds upon the `groupby` method that we have seen."
   ]
  },
  {
   "cell_type": "code",
   "execution_count": null,
   "id": "de0385ae-39bf-4ac2-82c9-67f05cdc6c6b",
   "metadata": {},
   "outputs": [],
   "source": [
    "# First, let's create the pivot table to count each domain occurrence by position\n",
    "\n",
    "dfFinal = dfSmall[['domain', 'story_position']] # work with a two-column dataframe\n",
    "\n",
    "pivotDF = dfFinal.pivot_table(index='domain', columns='story_position', \n",
    "                              aggfunc='size',fill_value=0)\n",
    "pivotDF.head(10)"
   ]
  },
  {
   "cell_type": "markdown",
   "id": "0327276f-9197-4a53-ae8a-1351a646a499",
   "metadata": {},
   "source": [
    "Now that we have a dataframe, let's normalize the rows by dividing each cell in a column by the sum of values of that row:"
   ]
  },
  {
   "cell_type": "code",
   "execution_count": null,
   "id": "99bb6b82-65e2-481f-ac04-33b767c97815",
   "metadata": {},
   "outputs": [],
   "source": [
    "normalized = pivotDF.div(pivotDF.sum(axis=1), # first generate the sum of values in each row\n",
    "                         axis=0) # then divide all cells in a colum, by the corresponding sum\n",
    "normalized"
   ]
  },
  {
   "cell_type": "markdown",
   "id": "c5e6bea3-8dcf-4a2d-99f9-ec4ce0b35001",
   "metadata": {},
   "source": [
    "Now that the data is ready, we can create the heatmap, providing some additional instructions to make it look good:"
   ]
  },
  {
   "cell_type": "code",
   "execution_count": null,
   "id": "214926a7-9164-4808-aa9d-632f9723e03e",
   "metadata": {},
   "outputs": [],
   "source": [
    "# Create a heatmap\n",
    "plt.figure(figsize=(8, 4))\n",
    "sns.set(font_scale=1.2)  # Adjust font size\n",
    "sns.heatmap(normalized, \n",
    "            cmap='BuGn', # set color map Blue to Green\n",
    "            annot=False, # do not show the numerical values in each cell\n",
    "            linewidths=0.5) # width of lines that separate the cells in the map\n",
    "\n",
    "# We are directly setting the properties of the current axes, without explicitely referring to it as we did in the barplot image\n",
    "plt.xlabel('Story position', fontsize=10)\n",
    "plt.ylabel('Domain', fontsize=10)\n",
    "plt.title('Proportion of Top 10 Domains by Position', fontsize=12)\n",
    "\n",
    "plt.tight_layout()\n",
    "plt.show()"
   ]
  },
  {
   "cell_type": "markdown",
   "id": "e5aad6c1-5394-4fa1-aa01-10f4589db1c5",
   "metadata": {},
   "source": [
    "**Questions:** Given this visualization, how can we answer our starting question: Are all news sources equally likely to show up in all positions?  \n",
    "Furthermore, what does this tell us about Google's algorithms?"
   ]
  },
  {
   "cell_type": "markdown",
   "id": "7978a2bb-4d91-408b-91b0-0c6ef252b606",
   "metadata": {},
   "source": [
    "**Your Answer:**"
   ]
  },
  {
   "cell_type": "markdown",
   "id": "f3606f9e-bbdd-427a-9311-a67a058b337f",
   "metadata": {},
   "source": [
    "<a id=\"sec5\"></a>\n",
    "## 5. Timeseries of monthly unique articles organized by query type\n",
    "\n",
    "From prior experience in working with Google Top Stories data, I know that some articles show up multiple times during the day or over a few days. We can verify this through code:"
   ]
  },
  {
   "cell_type": "code",
   "execution_count": null,
   "id": "28f7a83e-d36e-4200-89e1-5a3f4a2adf18",
   "metadata": {},
   "outputs": [],
   "source": [
    "df.url.unique().size == df.url.size # compare sizes"
   ]
  },
  {
   "cell_type": "markdown",
   "id": "933b8758-a119-4fa2-b8d1-9f6ecb746e5d",
   "metadata": {},
   "source": [
    "Print the sizes to compare unique url to the total urls:"
   ]
  },
  {
   "cell_type": "code",
   "execution_count": null,
   "id": "d0066478-be70-4613-a834-1f12d6dfc1a2",
   "metadata": {},
   "outputs": [],
   "source": [
    "print(f\"Unique: {df.url.unique().size}, Total: {df.url.size}\")"
   ]
  },
  {
   "cell_type": "markdown",
   "id": "ec291001-f705-4115-9dcd-bc2d3c74674b",
   "metadata": {},
   "source": [
    "**Your Task: Domains and Sources**  \n",
    "Throughout the notebook, we worked with the domain column, instead of source. \n",
    "1. Check if these two columns have the same size in terms of unique values.\n",
    "2. What is the size of unique values for each of them?\n",
    "3. Speculate about the reason for the divergence between the two columns."
   ]
  },
  {
   "cell_type": "markdown",
   "id": "cc79a0a6-e402-496e-8399-fdafd2eb9da9",
   "metadata": {},
   "source": [
    "**Your exploration**"
   ]
  },
  {
   "cell_type": "code",
   "execution_count": null,
   "id": "5c997916-d497-4cfd-be68-63d470ecc127",
   "metadata": {},
   "outputs": [],
   "source": []
  },
  {
   "cell_type": "code",
   "execution_count": null,
   "id": "5a09fae5-300a-497f-9d30-494499604ff2",
   "metadata": {},
   "outputs": [],
   "source": []
  },
  {
   "cell_type": "markdown",
   "id": "19540749-cd9c-4278-8c8f-99d1ca80de35",
   "metadata": {},
   "source": [
    "### Focus on unique articles"
   ]
  },
  {
   "cell_type": "markdown",
   "id": "e9c4f648-ae3c-4dfe-a8e9-b27ec555d75d",
   "metadata": {},
   "source": [
    "Let's start by dropping all the rows that have repeating URLs, however, we will first sort the rows, so that they are in the order of publication."
   ]
  },
  {
   "cell_type": "code",
   "execution_count": null,
   "id": "5d7212ea-8bef-493f-b2be-cd44df5b0033",
   "metadata": {},
   "outputs": [],
   "source": [
    "df.sort_values(by=['date'], inplace=True)\n",
    "df.head()"
   ]
  },
  {
   "cell_type": "markdown",
   "id": "3c2446cc-6943-4f29-9e32-3d23809a1108",
   "metadata": {},
   "source": [
    "We can see from the indices (they don't start at 0 any longer) that the rows were sorted. Let's drop the duplicate URLs:"
   ]
  },
  {
   "cell_type": "code",
   "execution_count": null,
   "id": "4f859e80-489f-4a83-abf6-67328e087a19",
   "metadata": {},
   "outputs": [],
   "source": [
    "dfUnique = df.drop_duplicates(subset=['url']) \n",
    "dfUnique.shape"
   ]
  },
  {
   "cell_type": "markdown",
   "id": "1279a44b-7932-4985-9657-0aab7f265e43",
   "metadata": {},
   "source": [
    "I will create a new column, year-month, since the date field is too granular. [**Note**: Read more about this at the end of the notebook.]"
   ]
  },
  {
   "cell_type": "code",
   "execution_count": null,
   "id": "1abf2590-90ef-42f3-b01c-3356aa0342bc",
   "metadata": {},
   "outputs": [],
   "source": [
    "def splitDate(row):\n",
    "    \"\"\"return a date in the format YYYY-MM\"\"\"\n",
    "    return row['date'][:7] \n",
    "\n",
    "dfUnique['year-month'] = dfUnique.apply(splitDate, axis=1)\n",
    "dfUnique.head()"
   ]
  },
  {
   "cell_type": "markdown",
   "id": "f713f273-1709-47d9-89a0-f79267b64eaa",
   "metadata": {},
   "source": [
    "**Important Note:** When running the cell above, some of you might have received the following warning:  \n",
    "A value is trying to be set on a copy of a slice from a DataFrame.\n",
    "\n",
    "When we run the statement `dfUnique = df.drop_duplicates(subset=['url'])` we intended to create a new dataframe. However, pandas warns us because it can't guarantee that dfUnique isn't sharing data with df under the hood due to its optimizations. The longer explanation is that pandas sometimes uses views internally to optimize memory usage. When we perform an operation that could be ambiguous, such as modifying a DataFrame that could potentially be a view of another DataFrame, pandas issues a warning.\n",
    "\n",
    "If we don't want the warning to show, we should explicitely tell pandas make a new copy:\n",
    "\n",
    "`dfUnique = df.drop_duplicates(subset=['url']).copy()`"
   ]
  },
  {
   "cell_type": "markdown",
   "id": "50ffef6f-19bf-4c70-bd42-fb70b99ff4fa",
   "metadata": {},
   "source": [
    "### Pivot Table: counting articles per query\n",
    "\n",
    "Now that each row has a month value, we can create a pivot table to count how many time a query showed in each month."
   ]
  },
  {
   "cell_type": "code",
   "execution_count": null,
   "id": "f5087619-e887-4a74-aabf-a49466b87390",
   "metadata": {},
   "outputs": [],
   "source": [
    "queryMonthDF = dfUnique.pivot_table(index=\"query\", \n",
    "                                    columns=\"year-month\", \n",
    "                                    aggfunc=\"size\", \n",
    "                                    fill_value=0)\n",
    "queryMonthDF.head()"
   ]
  },
  {
   "cell_type": "markdown",
   "id": "4eb12338-b7e2-4520-bbf0-c90d7299774b",
   "metadata": {},
   "source": [
    "Let's validate that all articles are shown in this table:"
   ]
  },
  {
   "cell_type": "code",
   "execution_count": null,
   "id": "abaabb0e-cc69-43a8-8b6d-3f9e1b3102a1",
   "metadata": {},
   "outputs": [],
   "source": [
    "queryMonthDF.sum().sum()"
   ]
  },
  {
   "cell_type": "markdown",
   "id": "a5e45c16-2902-4101-8cae-266681fde636",
   "metadata": {},
   "source": [
    "It's looks right!"
   ]
  },
  {
   "cell_type": "markdown",
   "id": "f387669c-97c7-4c51-ac20-5b1118631179",
   "metadata": {},
   "source": [
    "### Generate the time series plot\n",
    "\n",
    "There are many ways to create a time series plot. Because I gave you this task before you had seen pandas timeseries, below I will show how to create the plot using linebars. There are two ways to do this.\n",
    "\n",
    "**Soution 1: Plot line bars with a for loop**\n",
    "\n",
    "Because the table we created above is a pivot table, also known as a \"wide table\" (different from the \"tidy table\"), seaborn doesn't know how to work with it directly, so we have to generate each line within a for loop. "
   ]
  },
  {
   "cell_type": "code",
   "execution_count": null,
   "id": "53ea12fd-70e5-425e-bc9f-12d490b19552",
   "metadata": {},
   "outputs": [],
   "source": [
    "plt.figure(figsize=(10, 4))\n",
    "plt.style.use('fivethirtyeight')\n",
    "\n",
    "# Iterate over each row to plot\n",
    "for index, row in queryMonthDF.iterrows():\n",
    "    sns.lineplot(x=queryMonthDF.columns,  # the year-month values\n",
    "                 y=row.values,  # the counts for each query\n",
    "                 label=index, # this will be the query values\n",
    "                 lw=3)\n",
    "\n",
    "# Change the parameters of the current axes (plot) to deal with the font size\n",
    "plt.xticks(rotation=45) # Rotate dates\n",
    "plt.ylabel('Article count', fontsize=10)\n",
    "plt.xlabel('Year-Month', fontsize=10)\n",
    "plt.xticks(fontsize=10)\n",
    "plt.yticks(fontsize=10)\n",
    "plt.title('Number of unique articles by query', fontsize=12)\n",
    "plt.legend(title='Query', fontsize=10, loc=\"upper right\", title_fontsize=12)\n",
    "\n",
    "plt.show()"
   ]
  },
  {
   "cell_type": "markdown",
   "id": "e935dc1a-8d8d-456c-ac48-25dd323ea2d8",
   "metadata": {},
   "source": [
    "**Solution 2: Wide table vs. long table**\n",
    "\n",
    "We mentioned that the `pivot_table` method creates a **wide format table**. Seaborn prefers to work with a **long format table** (we called it the tidy data).  \n",
    "Thus, we will convert the wide table to a long table.\n",
    "\n",
    "First, let's look again at our wide-format table:"
   ]
  },
  {
   "cell_type": "code",
   "execution_count": null,
   "id": "21f13166-94bf-4ebe-b22b-8bda6bd5fae6",
   "metadata": {},
   "outputs": [],
   "source": [
    "queryMonthDF"
   ]
  },
  {
   "cell_type": "markdown",
   "id": "706f922d-02de-43bc-9244-d79b827d5245",
   "metadata": {},
   "source": [
    "Notice that the first column, query, is also serving as an index column. Eventually, what we want is to **unpivot** this table and create a table that looks like this:\n",
    "\n",
    "```\n",
    "query year-month count\n",
    "Anthony Fauci 2020-04 0\n",
    "Anthony Fauci 2020-05 175\n",
    "Anthony Fauci 2020-06 304\n",
    "...\n",
    "Covid-19 2020-04 102\n",
    "Covid-19 2020-04 531\n",
    "...\n",
    "```\n",
    "\n",
    "That is from a table that now has 11 colums x 5 rows, we want a table with 3 columns and 55 rows (from wide to long).\n",
    "\n",
    "The method `melt` below will perform this:"
   ]
  },
  {
   "cell_type": "code",
   "execution_count": null,
   "id": "ba4cf817-b71b-46c7-9d71-a46517a588ff",
   "metadata": {},
   "outputs": [],
   "source": [
    "dfLongTab = queryMonthDF.reset_index().melt(id_vars='query',  # column that remains an \"identifier\" column, will not be melted\n",
    "                                          var_name='year-month', # name for variable column created after the melting (this contains names of melted columns)\n",
    "                                          value_name='count') # column created after melting (contains values of melted columns)\n",
    "dfLongTab.head()"
   ]
  },
  {
   "cell_type": "markdown",
   "id": "6026ecd2-ba54-4d99-a608-b8c0d815b536",
   "metadata": {},
   "source": [
    "Let's check the shape of the created dataframe. "
   ]
  },
  {
   "cell_type": "code",
   "execution_count": null,
   "id": "f7d308b1-9724-40a8-8df6-70dccd73f5ba",
   "metadata": {},
   "outputs": [],
   "source": [
    "dfLongTab.shape"
   ]
  },
  {
   "cell_type": "markdown",
   "id": "69bf1b20-51d5-4550-afad-f4ffdc3065b1",
   "metadata": {},
   "source": [
    "It's exactly what we expected!\n",
    "\n",
    "Now that we have the data in the desired format, we can do the plotting without having to use a for loop to iterate through the lines, seaborn will do that itself."
   ]
  },
  {
   "cell_type": "code",
   "execution_count": null,
   "id": "9821448c-01c1-4d5f-afd9-3cb6e1db2e74",
   "metadata": {},
   "outputs": [],
   "source": [
    "plt.figure(figsize=(10, 4))\n",
    "plt.style.use('fivethirtyeight')\n",
    "\n",
    "sns.lineplot(data=dfLongTab, \n",
    "             x='year-month', \n",
    "             y='count', \n",
    "             hue='query', lw=3)\n",
    "\n",
    "# Change the parameters of the current axes (plot) to deal with the font size\n",
    "plt.xticks(rotation=45) # Rotate dates\n",
    "plt.ylabel('Article count', fontsize=10)\n",
    "plt.xlabel('Year-Month', fontsize=10)\n",
    "plt.xticks(fontsize=10)\n",
    "plt.yticks(fontsize=10)\n",
    "plt.title('Number of unique articles by query', fontsize=12)\n",
    "plt.legend(title='Query', fontsize=10, loc=\"upper right\", title_fontsize=12)\n",
    "\n",
    "plt.show()"
   ]
  },
  {
   "cell_type": "markdown",
   "id": "9db950fe-1854-4f94-83bf-747206660c77",
   "metadata": {},
   "source": [
    "Notice that we produced the same graph but with two different starting dataframes and code for generating the lines. "
   ]
  },
  {
   "cell_type": "markdown",
   "id": "7b252265-29f9-4d94-8be1-531000074e95",
   "metadata": {},
   "source": [
    "**Your Task: Plot each month**\n",
    "\n",
    "Using the code above, create two functions:\n",
    "1. Create a function that given a year-month value, for example: \"2020-05\", prepares the dataframe that contains the \"month-day\" counts of the unique articles for each query.\n",
    "2. Create a function that can take the output from point 1) and plot the lineplot.\n",
    "\n",
    "Excecute these functions for at least two dates."
   ]
  },
  {
   "cell_type": "code",
   "execution_count": null,
   "id": "b3747600-a7d3-4fd3-a69e-a39406d77ed0",
   "metadata": {},
   "outputs": [],
   "source": []
  }
 ],
 "metadata": {
  "kernelspec": {
   "display_name": "Python 3 (ipykernel)",
   "language": "python",
   "name": "python3"
  },
  "language_info": {
   "codemirror_mode": {
    "name": "ipython",
    "version": 3
   },
   "file_extension": ".py",
   "mimetype": "text/x-python",
   "name": "python",
   "nbconvert_exporter": "python",
   "pygments_lexer": "ipython3",
   "version": "3.11.5"
  }
 },
 "nbformat": 4,
 "nbformat_minor": 5
}
